{
 "cells": [
  {
   "cell_type": "code",
   "execution_count": 12,
   "id": "019825ff",
   "metadata": {},
   "outputs": [],
   "source": [
    "import streamlit as st \n",
    "import pandas as pd\n",
    "import numpy as np\n",
    "import plotly.express as px\n",
    "import plotly.graph_objects as go\n",
    "from plotly.subplots import make_subplots\n",
    "import seaborn as sns\n",
    "import matplotlib.pyplot as plt\n",
    "from datetime import datetime, timedelta"
   ]
  },
  {
   "cell_type": "code",
   "execution_count": 13,
   "id": "5c930d3a",
   "metadata": {},
   "outputs": [
    {
     "data": {
      "text/html": [
       "<div>\n",
       "<style scoped>\n",
       "    .dataframe tbody tr th:only-of-type {\n",
       "        vertical-align: middle;\n",
       "    }\n",
       "\n",
       "    .dataframe tbody tr th {\n",
       "        vertical-align: top;\n",
       "    }\n",
       "\n",
       "    .dataframe thead th {\n",
       "        text-align: right;\n",
       "    }\n",
       "</style>\n",
       "<table border=\"1\" class=\"dataframe\">\n",
       "  <thead>\n",
       "    <tr style=\"text-align: right;\">\n",
       "      <th></th>\n",
       "      <th>fecha</th>\n",
       "      <th>producto</th>\n",
       "      <th>region</th>\n",
       "      <th>cantidad</th>\n",
       "      <th>precio_unitario</th>\n",
       "      <th>vendedor</th>\n",
       "    </tr>\n",
       "  </thead>\n",
       "  <tbody>\n",
       "    <tr>\n",
       "      <th>0</th>\n",
       "      <td>2023-01-01</td>\n",
       "      <td>Mouse</td>\n",
       "      <td>Este</td>\n",
       "      <td>3</td>\n",
       "      <td>715.910893</td>\n",
       "      <td>Vendedor_4</td>\n",
       "    </tr>\n",
       "    <tr>\n",
       "      <th>1</th>\n",
       "      <td>2023-01-01</td>\n",
       "      <td>Teclado</td>\n",
       "      <td>Centro</td>\n",
       "      <td>2</td>\n",
       "      <td>1096.898220</td>\n",
       "      <td>Vendedor_6</td>\n",
       "    </tr>\n",
       "    <tr>\n",
       "      <th>2</th>\n",
       "      <td>2023-01-01</td>\n",
       "      <td>Mouse</td>\n",
       "      <td>Oeste</td>\n",
       "      <td>5</td>\n",
       "      <td>945.348189</td>\n",
       "      <td>Vendedor_12</td>\n",
       "    </tr>\n",
       "    <tr>\n",
       "      <th>3</th>\n",
       "      <td>2023-01-01</td>\n",
       "      <td>Laptop</td>\n",
       "      <td>Norte</td>\n",
       "      <td>3</td>\n",
       "      <td>937.186697</td>\n",
       "      <td>Vendedor_10</td>\n",
       "    </tr>\n",
       "    <tr>\n",
       "      <th>4</th>\n",
       "      <td>2023-01-01</td>\n",
       "      <td>Monitor</td>\n",
       "      <td>Oeste</td>\n",
       "      <td>3</td>\n",
       "      <td>604.569887</td>\n",
       "      <td>Vendedor_20</td>\n",
       "    </tr>\n",
       "    <tr>\n",
       "      <th>5</th>\n",
       "      <td>2023-01-01</td>\n",
       "      <td>Laptop</td>\n",
       "      <td>Este</td>\n",
       "      <td>5</td>\n",
       "      <td>930.940035</td>\n",
       "      <td>Vendedor_9</td>\n",
       "    </tr>\n",
       "    <tr>\n",
       "      <th>6</th>\n",
       "      <td>2023-01-01</td>\n",
       "      <td>Mouse</td>\n",
       "      <td>Oeste</td>\n",
       "      <td>1</td>\n",
       "      <td>1450.166448</td>\n",
       "      <td>Vendedor_18</td>\n",
       "    </tr>\n",
       "    <tr>\n",
       "      <th>7</th>\n",
       "      <td>2023-01-01</td>\n",
       "      <td>Mouse</td>\n",
       "      <td>Norte</td>\n",
       "      <td>2</td>\n",
       "      <td>191.624565</td>\n",
       "      <td>Vendedor_20</td>\n",
       "    </tr>\n",
       "    <tr>\n",
       "      <th>8</th>\n",
       "      <td>2023-01-01</td>\n",
       "      <td>Monitor</td>\n",
       "      <td>Oeste</td>\n",
       "      <td>4</td>\n",
       "      <td>768.006520</td>\n",
       "      <td>Vendedor_15</td>\n",
       "    </tr>\n",
       "    <tr>\n",
       "      <th>9</th>\n",
       "      <td>2023-01-01</td>\n",
       "      <td>Teclado</td>\n",
       "      <td>Norte</td>\n",
       "      <td>4</td>\n",
       "      <td>314.242327</td>\n",
       "      <td>Vendedor_4</td>\n",
       "    </tr>\n",
       "  </tbody>\n",
       "</table>\n",
       "</div>"
      ],
      "text/plain": [
       "       fecha producto  region  cantidad  precio_unitario     vendedor\n",
       "0 2023-01-01    Mouse    Este         3       715.910893   Vendedor_4\n",
       "1 2023-01-01  Teclado  Centro         2      1096.898220   Vendedor_6\n",
       "2 2023-01-01    Mouse   Oeste         5       945.348189  Vendedor_12\n",
       "3 2023-01-01   Laptop   Norte         3       937.186697  Vendedor_10\n",
       "4 2023-01-01  Monitor   Oeste         3       604.569887  Vendedor_20\n",
       "5 2023-01-01   Laptop    Este         5       930.940035   Vendedor_9\n",
       "6 2023-01-01    Mouse   Oeste         1      1450.166448  Vendedor_18\n",
       "7 2023-01-01    Mouse   Norte         2       191.624565  Vendedor_20\n",
       "8 2023-01-01  Monitor   Oeste         4       768.006520  Vendedor_15\n",
       "9 2023-01-01  Teclado   Norte         4       314.242327   Vendedor_4"
      ]
     },
     "execution_count": 13,
     "metadata": {},
     "output_type": "execute_result"
    }
   ],
   "source": [
    "# Datos \n",
    "np.random.seed(42)\n",
    "fechas= pd.date_range('2023-01-01', '2024-12-31', freq='D') \n",
    "num_productos= ['Laptop', 'Mouse', 'Teclado', 'Monitor', 'Auriculares']\n",
    "regiones = ['Norte', 'Sur', 'Este', 'Oeste', 'Centro']\n",
    "\n",
    "# dataset\n",
    "data = []\n",
    "\n",
    "for fecha in fechas:\n",
    "    for _ in range(np.random.poisson(10)):\n",
    "        data.append({\n",
    "            'fecha': fecha,\n",
    "            'producto' : np.random.choice(num_productos),\n",
    "            'region' : np.random.choice(regiones),\n",
    "            'cantidad': np.random.randint(1, 6),\n",
    "            'precio_unitario': np.random.uniform(50, 1500),\n",
    "            'vendedor' : f'Vendedor_{np.random.randint(1, 21)}'\n",
    "        })\n",
    "        \n",
    "df = pd.DataFrame(data)\n",
    "df.head(10)\n"
   ]
  },
  {
   "cell_type": "code",
   "execution_count": 14,
   "id": "a4853f65",
   "metadata": {},
   "outputs": [
    {
     "data": {
      "text/html": [
       "<div>\n",
       "<style scoped>\n",
       "    .dataframe tbody tr th:only-of-type {\n",
       "        vertical-align: middle;\n",
       "    }\n",
       "\n",
       "    .dataframe tbody tr th {\n",
       "        vertical-align: top;\n",
       "    }\n",
       "\n",
       "    .dataframe thead th {\n",
       "        text-align: right;\n",
       "    }\n",
       "</style>\n",
       "<table border=\"1\" class=\"dataframe\">\n",
       "  <thead>\n",
       "    <tr style=\"text-align: right;\">\n",
       "      <th></th>\n",
       "      <th>fecha</th>\n",
       "      <th>producto</th>\n",
       "      <th>region</th>\n",
       "      <th>cantidad</th>\n",
       "      <th>precio_unitario</th>\n",
       "      <th>vendedor</th>\n",
       "      <th>venta_total</th>\n",
       "    </tr>\n",
       "  </thead>\n",
       "  <tbody>\n",
       "    <tr>\n",
       "      <th>0</th>\n",
       "      <td>2023-01-01</td>\n",
       "      <td>Mouse</td>\n",
       "      <td>Este</td>\n",
       "      <td>3</td>\n",
       "      <td>715.910893</td>\n",
       "      <td>Vendedor_4</td>\n",
       "      <td>2147.732680</td>\n",
       "    </tr>\n",
       "    <tr>\n",
       "      <th>1</th>\n",
       "      <td>2023-01-01</td>\n",
       "      <td>Teclado</td>\n",
       "      <td>Centro</td>\n",
       "      <td>2</td>\n",
       "      <td>1096.898220</td>\n",
       "      <td>Vendedor_6</td>\n",
       "      <td>2193.796440</td>\n",
       "    </tr>\n",
       "    <tr>\n",
       "      <th>2</th>\n",
       "      <td>2023-01-01</td>\n",
       "      <td>Mouse</td>\n",
       "      <td>Oeste</td>\n",
       "      <td>5</td>\n",
       "      <td>945.348189</td>\n",
       "      <td>Vendedor_12</td>\n",
       "      <td>4726.740945</td>\n",
       "    </tr>\n",
       "    <tr>\n",
       "      <th>3</th>\n",
       "      <td>2023-01-01</td>\n",
       "      <td>Laptop</td>\n",
       "      <td>Norte</td>\n",
       "      <td>3</td>\n",
       "      <td>937.186697</td>\n",
       "      <td>Vendedor_10</td>\n",
       "      <td>2811.560092</td>\n",
       "    </tr>\n",
       "    <tr>\n",
       "      <th>4</th>\n",
       "      <td>2023-01-01</td>\n",
       "      <td>Monitor</td>\n",
       "      <td>Oeste</td>\n",
       "      <td>3</td>\n",
       "      <td>604.569887</td>\n",
       "      <td>Vendedor_20</td>\n",
       "      <td>1813.709662</td>\n",
       "    </tr>\n",
       "  </tbody>\n",
       "</table>\n",
       "</div>"
      ],
      "text/plain": [
       "       fecha producto  region  cantidad  precio_unitario     vendedor  \\\n",
       "0 2023-01-01    Mouse    Este         3       715.910893   Vendedor_4   \n",
       "1 2023-01-01  Teclado  Centro         2      1096.898220   Vendedor_6   \n",
       "2 2023-01-01    Mouse   Oeste         5       945.348189  Vendedor_12   \n",
       "3 2023-01-01   Laptop   Norte         3       937.186697  Vendedor_10   \n",
       "4 2023-01-01  Monitor   Oeste         3       604.569887  Vendedor_20   \n",
       "\n",
       "   venta_total  \n",
       "0  2147.732680  \n",
       "1  2193.796440  \n",
       "2  4726.740945  \n",
       "3  2811.560092  \n",
       "4  1813.709662  "
      ]
     },
     "execution_count": 14,
     "metadata": {},
     "output_type": "execute_result"
    }
   ],
   "source": [
    "# columna de ventas totales\n",
    "df['venta_total'] = df['cantidad'] * df['precio_unitario']\n",
    "df.head()"
   ]
  },
  {
   "cell_type": "markdown",
   "id": "0bcefce1",
   "metadata": {},
   "source": [
    "EXPLORANDO DATOS"
   ]
  },
  {
   "cell_type": "code",
   "execution_count": 15,
   "id": "c3e05ee7",
   "metadata": {},
   "outputs": [
    {
     "name": "stdout",
     "output_type": "stream",
     "text": [
      "Shape del dataset: \n",
      " (7253, 7)\n",
      "\n"
     ]
    }
   ],
   "source": [
    "# Shape. (filas,columnas)\n",
    "print(f'Shape del dataset: \\n {df.shape}\\n')"
   ]
  },
  {
   "cell_type": "code",
   "execution_count": 16,
   "id": "0cc52f4d",
   "metadata": {},
   "outputs": [
    {
     "name": "stdout",
     "output_type": "stream",
     "text": [
      "<class 'pandas.core.frame.DataFrame'>\n",
      "RangeIndex: 7253 entries, 0 to 7252\n",
      "Data columns (total 7 columns):\n",
      " #   Column           Non-Null Count  Dtype         \n",
      "---  ------           --------------  -----         \n",
      " 0   fecha            7253 non-null   datetime64[ns]\n",
      " 1   producto         7253 non-null   object        \n",
      " 2   region           7253 non-null   object        \n",
      " 3   cantidad         7253 non-null   int64         \n",
      " 4   precio_unitario  7253 non-null   float64       \n",
      " 5   vendedor         7253 non-null   object        \n",
      " 6   venta_total      7253 non-null   float64       \n",
      "dtypes: datetime64[ns](1), float64(2), int64(1), object(3)\n",
      "memory usage: 396.8+ KB\n",
      "Información general del dataset: \n",
      " None\n",
      "\n",
      "<class 'pandas.core.frame.DataFrame'>\n",
      "RangeIndex: 7253 entries, 0 to 7252\n",
      "Data columns (total 7 columns):\n",
      " #   Column           Non-Null Count  Dtype         \n",
      "---  ------           --------------  -----         \n",
      " 0   fecha            7253 non-null   datetime64[ns]\n",
      " 1   producto         7253 non-null   object        \n",
      " 2   region           7253 non-null   object        \n",
      " 3   cantidad         7253 non-null   int64         \n",
      " 4   precio_unitario  7253 non-null   float64       \n",
      " 5   vendedor         7253 non-null   object        \n",
      " 6   venta_total      7253 non-null   float64       \n",
      "dtypes: datetime64[ns](1), float64(2), int64(1), object(3)\n",
      "memory usage: 396.8+ KB\n"
     ]
    }
   ],
   "source": [
    "# info. (tipo de datos, valores nulos, memoria)\n",
    "print(f'Información general del dataset: \\n {df.info()}\\n')\n",
    "df.info()"
   ]
  },
  {
   "cell_type": "code",
   "execution_count": 17,
   "id": "216145de",
   "metadata": {},
   "outputs": [
    {
     "name": "stdout",
     "output_type": "stream",
     "text": [
      "Estadísticas descriptivas: \n",
      "                                fecha     cantidad  precio_unitario  \\\n",
      "count                           7253  7253.000000      7253.000000   \n",
      "mean   2023-12-28 05:04:33.486833152     3.011995       771.204622   \n",
      "min              2023-01-01 00:00:00     1.000000        50.211363   \n",
      "25%              2023-06-30 00:00:00     2.000000       416.385460   \n",
      "50%              2023-12-26 00:00:00     3.000000       767.047548   \n",
      "75%              2024-06-25 00:00:00     4.000000      1121.608562   \n",
      "max              2024-12-31 00:00:00     5.000000      1499.962108   \n",
      "std                              NaN     1.421020       412.857448   \n",
      "\n",
      "       venta_total  \n",
      "count  7253.000000  \n",
      "mean   2324.939379  \n",
      "min      50.349268  \n",
      "25%     902.734548  \n",
      "50%    1865.436770  \n",
      "75%    3425.496465  \n",
      "max    7499.221834  \n",
      "std    1762.451173  \n",
      "\n"
     ]
    }
   ],
   "source": [
    "# estadisticas descriptivas\n",
    "print(f'Estadísticas descriptivas: \\n {df.describe()}\\n')"
   ]
  },
  {
   "cell_type": "code",
   "execution_count": 18,
   "id": "e12ead8c",
   "metadata": {},
   "outputs": [
    {
     "data": {
      "text/html": [
       "<div>\n",
       "<style scoped>\n",
       "    .dataframe tbody tr th:only-of-type {\n",
       "        vertical-align: middle;\n",
       "    }\n",
       "\n",
       "    .dataframe tbody tr th {\n",
       "        vertical-align: top;\n",
       "    }\n",
       "\n",
       "    .dataframe thead th {\n",
       "        text-align: right;\n",
       "    }\n",
       "</style>\n",
       "<table border=\"1\" class=\"dataframe\">\n",
       "  <thead>\n",
       "    <tr style=\"text-align: right;\">\n",
       "      <th></th>\n",
       "      <th>fecha</th>\n",
       "      <th>venta_total</th>\n",
       "    </tr>\n",
       "  </thead>\n",
       "  <tbody>\n",
       "    <tr>\n",
       "      <th>0</th>\n",
       "      <td>2023-01</td>\n",
       "      <td>698236.092223</td>\n",
       "    </tr>\n",
       "    <tr>\n",
       "      <th>1</th>\n",
       "      <td>2023-02</td>\n",
       "      <td>771177.713696</td>\n",
       "    </tr>\n",
       "    <tr>\n",
       "      <th>2</th>\n",
       "      <td>2023-03</td>\n",
       "      <td>703929.404650</td>\n",
       "    </tr>\n",
       "    <tr>\n",
       "      <th>3</th>\n",
       "      <td>2023-04</td>\n",
       "      <td>681246.244939</td>\n",
       "    </tr>\n",
       "    <tr>\n",
       "      <th>4</th>\n",
       "      <td>2023-05</td>\n",
       "      <td>656314.326446</td>\n",
       "    </tr>\n",
       "    <tr>\n",
       "      <th>5</th>\n",
       "      <td>2023-06</td>\n",
       "      <td>665508.801351</td>\n",
       "    </tr>\n",
       "    <tr>\n",
       "      <th>6</th>\n",
       "      <td>2023-07</td>\n",
       "      <td>801100.457396</td>\n",
       "    </tr>\n",
       "    <tr>\n",
       "      <th>7</th>\n",
       "      <td>2023-08</td>\n",
       "      <td>769081.345479</td>\n",
       "    </tr>\n",
       "    <tr>\n",
       "      <th>8</th>\n",
       "      <td>2023-09</td>\n",
       "      <td>694692.878027</td>\n",
       "    </tr>\n",
       "    <tr>\n",
       "      <th>9</th>\n",
       "      <td>2023-10</td>\n",
       "      <td>654356.720898</td>\n",
       "    </tr>\n",
       "    <tr>\n",
       "      <th>10</th>\n",
       "      <td>2023-11</td>\n",
       "      <td>709220.022601</td>\n",
       "    </tr>\n",
       "    <tr>\n",
       "      <th>11</th>\n",
       "      <td>2023-12</td>\n",
       "      <td>717784.025912</td>\n",
       "    </tr>\n",
       "    <tr>\n",
       "      <th>12</th>\n",
       "      <td>2024-01</td>\n",
       "      <td>769067.345798</td>\n",
       "    </tr>\n",
       "    <tr>\n",
       "      <th>13</th>\n",
       "      <td>2024-02</td>\n",
       "      <td>654218.138239</td>\n",
       "    </tr>\n",
       "    <tr>\n",
       "      <th>14</th>\n",
       "      <td>2024-03</td>\n",
       "      <td>731737.821340</td>\n",
       "    </tr>\n",
       "    <tr>\n",
       "      <th>15</th>\n",
       "      <td>2024-04</td>\n",
       "      <td>673054.432722</td>\n",
       "    </tr>\n",
       "    <tr>\n",
       "      <th>16</th>\n",
       "      <td>2024-05</td>\n",
       "      <td>805671.131807</td>\n",
       "    </tr>\n",
       "    <tr>\n",
       "      <th>17</th>\n",
       "      <td>2024-06</td>\n",
       "      <td>651905.878060</td>\n",
       "    </tr>\n",
       "    <tr>\n",
       "      <th>18</th>\n",
       "      <td>2024-07</td>\n",
       "      <td>662690.293155</td>\n",
       "    </tr>\n",
       "    <tr>\n",
       "      <th>19</th>\n",
       "      <td>2024-08</td>\n",
       "      <td>695045.454070</td>\n",
       "    </tr>\n",
       "    <tr>\n",
       "      <th>20</th>\n",
       "      <td>2024-09</td>\n",
       "      <td>680720.866772</td>\n",
       "    </tr>\n",
       "    <tr>\n",
       "      <th>21</th>\n",
       "      <td>2024-10</td>\n",
       "      <td>651698.171159</td>\n",
       "    </tr>\n",
       "    <tr>\n",
       "      <th>22</th>\n",
       "      <td>2024-11</td>\n",
       "      <td>725161.500389</td>\n",
       "    </tr>\n",
       "    <tr>\n",
       "      <th>23</th>\n",
       "      <td>2024-12</td>\n",
       "      <td>639166.246043</td>\n",
       "    </tr>\n",
       "  </tbody>\n",
       "</table>\n",
       "</div>"
      ],
      "text/plain": [
       "      fecha    venta_total\n",
       "0   2023-01  698236.092223\n",
       "1   2023-02  771177.713696\n",
       "2   2023-03  703929.404650\n",
       "3   2023-04  681246.244939\n",
       "4   2023-05  656314.326446\n",
       "5   2023-06  665508.801351\n",
       "6   2023-07  801100.457396\n",
       "7   2023-08  769081.345479\n",
       "8   2023-09  694692.878027\n",
       "9   2023-10  654356.720898\n",
       "10  2023-11  709220.022601\n",
       "11  2023-12  717784.025912\n",
       "12  2024-01  769067.345798\n",
       "13  2024-02  654218.138239\n",
       "14  2024-03  731737.821340\n",
       "15  2024-04  673054.432722\n",
       "16  2024-05  805671.131807\n",
       "17  2024-06  651905.878060\n",
       "18  2024-07  662690.293155\n",
       "19  2024-08  695045.454070\n",
       "20  2024-09  680720.866772\n",
       "21  2024-10  651698.171159\n",
       "22  2024-11  725161.500389\n",
       "23  2024-12  639166.246043"
      ]
     },
     "execution_count": 18,
     "metadata": {},
     "output_type": "execute_result"
    }
   ],
   "source": [
    "# ventas por mes\n",
    "df_mes = df.groupby(df['fecha'].dt.to_period('M'))['venta_total'].sum().reset_index()\n",
    "df_mes['fecha'] = df_mes['fecha'].astype(str)\n",
    "df_mes "
   ]
  },
  {
   "cell_type": "code",
   "execution_count": null,
   "id": "cc8d22d9",
   "metadata": {},
   "outputs": [
    {
     "data": {
      "application/vnd.plotly.v1+json": {
       "config": {
        "plotlyServerURL": "https://plot.ly"
       },
       "data": [
        {
         "hovertemplate": "Mes=%{x}<br>Ventas (€)=%{y}<extra></extra>",
         "legendgroup": "",
         "line": {
          "color": "#000001",
          "dash": "solid",
          "width": 3
         },
         "marker": {
          "symbol": "circle"
         },
         "mode": "lines",
         "name": "",
         "orientation": "v",
         "showlegend": false,
         "type": "scatter",
         "x": [
          "2023-01",
          "2023-02",
          "2023-03",
          "2023-04",
          "2023-05",
          "2023-06",
          "2023-07",
          "2023-08",
          "2023-09",
          "2023-10",
          "2023-11",
          "2023-12",
          "2024-01",
          "2024-02",
          "2024-03",
          "2024-04",
          "2024-05",
          "2024-06",
          "2024-07",
          "2024-08",
          "2024-09",
          "2024-10",
          "2024-11",
          "2024-12"
         ],
         "xaxis": "x",
         "y": {
          "bdata": "KuI3L/hOJUHKh2lt04gnQQ9NLs9yeyVBp6BofTzKJEEs8COndAckQYqiSppJTyRB6NMv6phyKEH+quKwcngnQXHAjMFJMyVBmZoZcSn4I0G1YpILyKQlQZplRA2w5yVBT3sMsVZ4J0HpR8dGFPcjQS+7hqSzVCZB4reN3TyKJEEjQXxDTpYoQR8gkcED5SNB32cYlkQ5JEF02XvoCjYlQc2GybshxiRBPjGiV2TjI0GD9TIAUyEmQSdf+X18gSNB",
          "dtype": "f8"
         },
         "yaxis": "y"
        }
       ],
       "layout": {
        "legend": {
         "tracegroupgap": 0
        },
        "template": {
         "data": {
          "candlestick": [
           {
            "decreasing": {
             "line": {
              "color": "#000033"
             }
            },
            "increasing": {
             "line": {
              "color": "#000032"
             }
            },
            "type": "candlestick"
           }
          ],
          "contour": [
           {
            "colorscale": [
             [
              0,
              "#000011"
             ],
             [
              0.1111111111111111,
              "#000012"
             ],
             [
              0.2222222222222222,
              "#000013"
             ],
             [
              0.3333333333333333,
              "#000014"
             ],
             [
              0.4444444444444444,
              "#000015"
             ],
             [
              0.5555555555555556,
              "#000016"
             ],
             [
              0.6666666666666666,
              "#000017"
             ],
             [
              0.7777777777777778,
              "#000018"
             ],
             [
              0.8888888888888888,
              "#000019"
             ],
             [
              1,
              "#000020"
             ]
            ],
            "type": "contour"
           }
          ],
          "contourcarpet": [
           {
            "colorscale": [
             [
              0,
              "#000011"
             ],
             [
              0.1111111111111111,
              "#000012"
             ],
             [
              0.2222222222222222,
              "#000013"
             ],
             [
              0.3333333333333333,
              "#000014"
             ],
             [
              0.4444444444444444,
              "#000015"
             ],
             [
              0.5555555555555556,
              "#000016"
             ],
             [
              0.6666666666666666,
              "#000017"
             ],
             [
              0.7777777777777778,
              "#000018"
             ],
             [
              0.8888888888888888,
              "#000019"
             ],
             [
              1,
              "#000020"
             ]
            ],
            "type": "contourcarpet"
           }
          ],
          "heatmap": [
           {
            "colorscale": [
             [
              0,
              "#000011"
             ],
             [
              0.1111111111111111,
              "#000012"
             ],
             [
              0.2222222222222222,
              "#000013"
             ],
             [
              0.3333333333333333,
              "#000014"
             ],
             [
              0.4444444444444444,
              "#000015"
             ],
             [
              0.5555555555555556,
              "#000016"
             ],
             [
              0.6666666666666666,
              "#000017"
             ],
             [
              0.7777777777777778,
              "#000018"
             ],
             [
              0.8888888888888888,
              "#000019"
             ],
             [
              1,
              "#000020"
             ]
            ],
            "type": "heatmap"
           }
          ],
          "histogram2d": [
           {
            "colorscale": [
             [
              0,
              "#000011"
             ],
             [
              0.1111111111111111,
              "#000012"
             ],
             [
              0.2222222222222222,
              "#000013"
             ],
             [
              0.3333333333333333,
              "#000014"
             ],
             [
              0.4444444444444444,
              "#000015"
             ],
             [
              0.5555555555555556,
              "#000016"
             ],
             [
              0.6666666666666666,
              "#000017"
             ],
             [
              0.7777777777777778,
              "#000018"
             ],
             [
              0.8888888888888888,
              "#000019"
             ],
             [
              1,
              "#000020"
             ]
            ],
            "type": "histogram2d"
           }
          ],
          "icicle": [
           {
            "textfont": {
             "color": "white"
            },
            "type": "icicle"
           }
          ],
          "sankey": [
           {
            "textfont": {
             "color": "#000036"
            },
            "type": "sankey"
           }
          ],
          "scatter": [
           {
            "marker": {
             "line": {
              "width": 0
             }
            },
            "type": "scatter"
           }
          ],
          "table": [
           {
            "cells": {
             "fill": {
              "color": "#000038"
             },
             "font": {
              "color": "#000037"
             },
             "line": {
              "color": "#000039"
             }
            },
            "header": {
             "fill": {
              "color": "#000040"
             },
             "font": {
              "color": "#000036"
             },
             "line": {
              "color": "#000039"
             }
            },
            "type": "table"
           }
          ],
          "waterfall": [
           {
            "connector": {
             "line": {
              "color": "#000036",
              "width": 2
             }
            },
            "decreasing": {
             "marker": {
              "color": "#000033"
             }
            },
            "increasing": {
             "marker": {
              "color": "#000032"
             }
            },
            "totals": {
             "marker": {
              "color": "#000034"
             }
            },
            "type": "waterfall"
           }
          ]
         },
         "layout": {
          "coloraxis": {
           "colorscale": [
            [
             0,
             "#000011"
            ],
            [
             0.1111111111111111,
             "#000012"
            ],
            [
             0.2222222222222222,
             "#000013"
            ],
            [
             0.3333333333333333,
             "#000014"
            ],
            [
             0.4444444444444444,
             "#000015"
            ],
            [
             0.5555555555555556,
             "#000016"
            ],
            [
             0.6666666666666666,
             "#000017"
            ],
            [
             0.7777777777777778,
             "#000018"
            ],
            [
             0.8888888888888888,
             "#000019"
            ],
            [
             1,
             "#000020"
            ]
           ]
          },
          "colorscale": {
           "diverging": [
            [
             0,
             "#000021"
            ],
            [
             0.1,
             "#000022"
            ],
            [
             0.2,
             "#000023"
            ],
            [
             0.3,
             "#000024"
            ],
            [
             0.4,
             "#000025"
            ],
            [
             0.5,
             "#000026"
            ],
            [
             0.6,
             "#000027"
            ],
            [
             0.7,
             "#000028"
            ],
            [
             0.8,
             "#000029"
            ],
            [
             0.9,
             "#000030"
            ],
            [
             1,
             "#000031"
            ]
           ],
           "sequential": [
            [
             0,
             "#000011"
            ],
            [
             0.1111111111111111,
             "#000012"
            ],
            [
             0.2222222222222222,
             "#000013"
            ],
            [
             0.3333333333333333,
             "#000014"
            ],
            [
             0.4444444444444444,
             "#000015"
            ],
            [
             0.5555555555555556,
             "#000016"
            ],
            [
             0.6666666666666666,
             "#000017"
            ],
            [
             0.7777777777777778,
             "#000018"
            ],
            [
             0.8888888888888888,
             "#000019"
            ],
            [
             1,
             "#000020"
            ]
           ],
           "sequentialminus": [
            [
             0,
             "#000011"
            ],
            [
             0.1111111111111111,
             "#000012"
            ],
            [
             0.2222222222222222,
             "#000013"
            ],
            [
             0.3333333333333333,
             "#000014"
            ],
            [
             0.4444444444444444,
             "#000015"
            ],
            [
             0.5555555555555556,
             "#000016"
            ],
            [
             0.6666666666666666,
             "#000017"
            ],
            [
             0.7777777777777778,
             "#000018"
            ],
            [
             0.8888888888888888,
             "#000019"
            ],
            [
             1,
             "#000020"
            ]
           ]
          },
          "colorway": [
           "#000001",
           "#000002",
           "#000003",
           "#000004",
           "#000005",
           "#000006",
           "#000007",
           "#000008",
           "#000009",
           "#000010"
          ]
         }
        },
        "title": {
         "text": "Tendencia de Ventas Mensuales"
        },
        "xaxis": {
         "anchor": "y",
         "domain": [
          0,
          1
         ],
         "title": {
          "text": "Mes"
         }
        },
        "yaxis": {
         "anchor": "x",
         "domain": [
          0,
          1
         ],
         "title": {
          "text": "Ventas (€)"
         }
        }
       }
      }
     },
     "metadata": {},
     "output_type": "display_data"
    }
   ],
   "source": [
    "# gráfico de lineas\n",
    "fig_mes = px.line(df_mes, x='fecha', y='venta_total',\n",
    "                  title='Tendencia de Ventas Mensuales',\n",
    "                  labels={'venta_total': 'Ventas (€)', 'fecha': 'Mes'})\n",
    "\n",
    "fig_mes.update_traces(line=dict(width=3))\n",
    "#fig_mes.show()"
   ]
  },
  {
   "cell_type": "code",
   "execution_count": null,
   "id": "a828d22a",
   "metadata": {},
   "outputs": [
    {
     "data": {
      "application/vnd.plotly.v1+json": {
       "config": {
        "plotlyServerURL": "https://plot.ly"
       },
       "data": [
        {
         "hovertemplate": "Ventas Totales(€)=%{x}<br>Producto=%{y}<extra></extra>",
         "legendgroup": "",
         "marker": {
          "color": "#000001",
          "pattern": {
           "shape": ""
          }
         },
         "name": "",
         "orientation": "h",
         "showlegend": false,
         "textposition": "auto",
         "type": "bar",
         "x": {
          "bdata": "VPCFkOwpSUG4LT7iyTxJQa0sg2zyjElBCZQE4IagSUHMPcro8BJLQQ==",
          "dtype": "f8"
         },
         "xaxis": "x",
         "y": [
          "Teclado",
          "Mouse",
          "Monitor",
          "Auriculares",
          "Laptop"
         ],
         "yaxis": "y"
        }
       ],
       "layout": {
        "barmode": "relative",
        "legend": {
         "tracegroupgap": 0
        },
        "template": {
         "data": {
          "candlestick": [
           {
            "decreasing": {
             "line": {
              "color": "#000033"
             }
            },
            "increasing": {
             "line": {
              "color": "#000032"
             }
            },
            "type": "candlestick"
           }
          ],
          "contour": [
           {
            "colorscale": [
             [
              0,
              "#000011"
             ],
             [
              0.1111111111111111,
              "#000012"
             ],
             [
              0.2222222222222222,
              "#000013"
             ],
             [
              0.3333333333333333,
              "#000014"
             ],
             [
              0.4444444444444444,
              "#000015"
             ],
             [
              0.5555555555555556,
              "#000016"
             ],
             [
              0.6666666666666666,
              "#000017"
             ],
             [
              0.7777777777777778,
              "#000018"
             ],
             [
              0.8888888888888888,
              "#000019"
             ],
             [
              1,
              "#000020"
             ]
            ],
            "type": "contour"
           }
          ],
          "contourcarpet": [
           {
            "colorscale": [
             [
              0,
              "#000011"
             ],
             [
              0.1111111111111111,
              "#000012"
             ],
             [
              0.2222222222222222,
              "#000013"
             ],
             [
              0.3333333333333333,
              "#000014"
             ],
             [
              0.4444444444444444,
              "#000015"
             ],
             [
              0.5555555555555556,
              "#000016"
             ],
             [
              0.6666666666666666,
              "#000017"
             ],
             [
              0.7777777777777778,
              "#000018"
             ],
             [
              0.8888888888888888,
              "#000019"
             ],
             [
              1,
              "#000020"
             ]
            ],
            "type": "contourcarpet"
           }
          ],
          "heatmap": [
           {
            "colorscale": [
             [
              0,
              "#000011"
             ],
             [
              0.1111111111111111,
              "#000012"
             ],
             [
              0.2222222222222222,
              "#000013"
             ],
             [
              0.3333333333333333,
              "#000014"
             ],
             [
              0.4444444444444444,
              "#000015"
             ],
             [
              0.5555555555555556,
              "#000016"
             ],
             [
              0.6666666666666666,
              "#000017"
             ],
             [
              0.7777777777777778,
              "#000018"
             ],
             [
              0.8888888888888888,
              "#000019"
             ],
             [
              1,
              "#000020"
             ]
            ],
            "type": "heatmap"
           }
          ],
          "histogram2d": [
           {
            "colorscale": [
             [
              0,
              "#000011"
             ],
             [
              0.1111111111111111,
              "#000012"
             ],
             [
              0.2222222222222222,
              "#000013"
             ],
             [
              0.3333333333333333,
              "#000014"
             ],
             [
              0.4444444444444444,
              "#000015"
             ],
             [
              0.5555555555555556,
              "#000016"
             ],
             [
              0.6666666666666666,
              "#000017"
             ],
             [
              0.7777777777777778,
              "#000018"
             ],
             [
              0.8888888888888888,
              "#000019"
             ],
             [
              1,
              "#000020"
             ]
            ],
            "type": "histogram2d"
           }
          ],
          "icicle": [
           {
            "textfont": {
             "color": "white"
            },
            "type": "icicle"
           }
          ],
          "sankey": [
           {
            "textfont": {
             "color": "#000036"
            },
            "type": "sankey"
           }
          ],
          "scatter": [
           {
            "marker": {
             "line": {
              "width": 0
             }
            },
            "type": "scatter"
           }
          ],
          "table": [
           {
            "cells": {
             "fill": {
              "color": "#000038"
             },
             "font": {
              "color": "#000037"
             },
             "line": {
              "color": "#000039"
             }
            },
            "header": {
             "fill": {
              "color": "#000040"
             },
             "font": {
              "color": "#000036"
             },
             "line": {
              "color": "#000039"
             }
            },
            "type": "table"
           }
          ],
          "waterfall": [
           {
            "connector": {
             "line": {
              "color": "#000036",
              "width": 2
             }
            },
            "decreasing": {
             "marker": {
              "color": "#000033"
             }
            },
            "increasing": {
             "marker": {
              "color": "#000032"
             }
            },
            "totals": {
             "marker": {
              "color": "#000034"
             }
            },
            "type": "waterfall"
           }
          ]
         },
         "layout": {
          "coloraxis": {
           "colorscale": [
            [
             0,
             "#000011"
            ],
            [
             0.1111111111111111,
             "#000012"
            ],
            [
             0.2222222222222222,
             "#000013"
            ],
            [
             0.3333333333333333,
             "#000014"
            ],
            [
             0.4444444444444444,
             "#000015"
            ],
            [
             0.5555555555555556,
             "#000016"
            ],
            [
             0.6666666666666666,
             "#000017"
            ],
            [
             0.7777777777777778,
             "#000018"
            ],
            [
             0.8888888888888888,
             "#000019"
            ],
            [
             1,
             "#000020"
            ]
           ]
          },
          "colorscale": {
           "diverging": [
            [
             0,
             "#000021"
            ],
            [
             0.1,
             "#000022"
            ],
            [
             0.2,
             "#000023"
            ],
            [
             0.3,
             "#000024"
            ],
            [
             0.4,
             "#000025"
            ],
            [
             0.5,
             "#000026"
            ],
            [
             0.6,
             "#000027"
            ],
            [
             0.7,
             "#000028"
            ],
            [
             0.8,
             "#000029"
            ],
            [
             0.9,
             "#000030"
            ],
            [
             1,
             "#000031"
            ]
           ],
           "sequential": [
            [
             0,
             "#000011"
            ],
            [
             0.1111111111111111,
             "#000012"
            ],
            [
             0.2222222222222222,
             "#000013"
            ],
            [
             0.3333333333333333,
             "#000014"
            ],
            [
             0.4444444444444444,
             "#000015"
            ],
            [
             0.5555555555555556,
             "#000016"
            ],
            [
             0.6666666666666666,
             "#000017"
            ],
            [
             0.7777777777777778,
             "#000018"
            ],
            [
             0.8888888888888888,
             "#000019"
            ],
            [
             1,
             "#000020"
            ]
           ],
           "sequentialminus": [
            [
             0,
             "#000011"
            ],
            [
             0.1111111111111111,
             "#000012"
            ],
            [
             0.2222222222222222,
             "#000013"
            ],
            [
             0.3333333333333333,
             "#000014"
            ],
            [
             0.4444444444444444,
             "#000015"
            ],
            [
             0.5555555555555556,
             "#000016"
            ],
            [
             0.6666666666666666,
             "#000017"
            ],
            [
             0.7777777777777778,
             "#000018"
            ],
            [
             0.8888888888888888,
             "#000019"
            ],
            [
             1,
             "#000020"
            ]
           ]
          },
          "colorway": [
           "#000001",
           "#000002",
           "#000003",
           "#000004",
           "#000005",
           "#000006",
           "#000007",
           "#000008",
           "#000009",
           "#000010"
          ]
         }
        },
        "title": {
         "text": "Ventas por Producto"
        },
        "xaxis": {
         "anchor": "y",
         "domain": [
          0,
          1
         ],
         "title": {
          "text": "Ventas Totales(€)"
         }
        },
        "yaxis": {
         "anchor": "x",
         "domain": [
          0,
          1
         ],
         "title": {
          "text": "Producto"
         }
        }
       }
      }
     },
     "metadata": {},
     "output_type": "display_data"
    }
   ],
   "source": [
    "# Top productos más vendidos\n",
    "df_productos = df.groupby('producto')['venta_total'].sum().sort_values(ascending=True)\n",
    "fig_products = px.bar(x=df_productos.values, y=df_productos.index,\n",
    "                      orientation='h',title='Ventas por Producto',\n",
    "                      labels={'x': 'Ventas Totales(€)', 'y': 'Producto'})\n",
    "#fig_products.show()"
   ]
  },
  {
   "cell_type": "code",
   "execution_count": null,
   "id": "61b334a7",
   "metadata": {},
   "outputs": [
    {
     "data": {
      "application/vnd.plotly.v1+json": {
       "config": {
        "plotlyServerURL": "https://plot.ly"
       },
       "data": [
        {
         "domain": {
          "x": [
           0,
           1
          ],
          "y": [
           0,
           1
          ]
         },
         "hovertemplate": "Región=%{label}<br>Ventas Totales(€)=%{value}<extra></extra>",
         "labels": [
          "Centro",
          "Este",
          "Norte",
          "Oeste",
          "Sur"
         ],
         "legendgroup": "",
         "name": "",
         "showlegend": true,
         "type": "pie",
         "values": {
          "bdata": "B9C3UlKoSkF49rZzbCNKQaJL7LhyZEhBl0KDehg+SUHVxzeu1jhKQQ==",
          "dtype": "f8"
         }
        }
       ],
       "layout": {
        "legend": {
         "tracegroupgap": 0
        },
        "template": {
         "data": {
          "candlestick": [
           {
            "decreasing": {
             "line": {
              "color": "#000033"
             }
            },
            "increasing": {
             "line": {
              "color": "#000032"
             }
            },
            "type": "candlestick"
           }
          ],
          "contour": [
           {
            "colorscale": [
             [
              0,
              "#000011"
             ],
             [
              0.1111111111111111,
              "#000012"
             ],
             [
              0.2222222222222222,
              "#000013"
             ],
             [
              0.3333333333333333,
              "#000014"
             ],
             [
              0.4444444444444444,
              "#000015"
             ],
             [
              0.5555555555555556,
              "#000016"
             ],
             [
              0.6666666666666666,
              "#000017"
             ],
             [
              0.7777777777777778,
              "#000018"
             ],
             [
              0.8888888888888888,
              "#000019"
             ],
             [
              1,
              "#000020"
             ]
            ],
            "type": "contour"
           }
          ],
          "contourcarpet": [
           {
            "colorscale": [
             [
              0,
              "#000011"
             ],
             [
              0.1111111111111111,
              "#000012"
             ],
             [
              0.2222222222222222,
              "#000013"
             ],
             [
              0.3333333333333333,
              "#000014"
             ],
             [
              0.4444444444444444,
              "#000015"
             ],
             [
              0.5555555555555556,
              "#000016"
             ],
             [
              0.6666666666666666,
              "#000017"
             ],
             [
              0.7777777777777778,
              "#000018"
             ],
             [
              0.8888888888888888,
              "#000019"
             ],
             [
              1,
              "#000020"
             ]
            ],
            "type": "contourcarpet"
           }
          ],
          "heatmap": [
           {
            "colorscale": [
             [
              0,
              "#000011"
             ],
             [
              0.1111111111111111,
              "#000012"
             ],
             [
              0.2222222222222222,
              "#000013"
             ],
             [
              0.3333333333333333,
              "#000014"
             ],
             [
              0.4444444444444444,
              "#000015"
             ],
             [
              0.5555555555555556,
              "#000016"
             ],
             [
              0.6666666666666666,
              "#000017"
             ],
             [
              0.7777777777777778,
              "#000018"
             ],
             [
              0.8888888888888888,
              "#000019"
             ],
             [
              1,
              "#000020"
             ]
            ],
            "type": "heatmap"
           }
          ],
          "histogram2d": [
           {
            "colorscale": [
             [
              0,
              "#000011"
             ],
             [
              0.1111111111111111,
              "#000012"
             ],
             [
              0.2222222222222222,
              "#000013"
             ],
             [
              0.3333333333333333,
              "#000014"
             ],
             [
              0.4444444444444444,
              "#000015"
             ],
             [
              0.5555555555555556,
              "#000016"
             ],
             [
              0.6666666666666666,
              "#000017"
             ],
             [
              0.7777777777777778,
              "#000018"
             ],
             [
              0.8888888888888888,
              "#000019"
             ],
             [
              1,
              "#000020"
             ]
            ],
            "type": "histogram2d"
           }
          ],
          "icicle": [
           {
            "textfont": {
             "color": "white"
            },
            "type": "icicle"
           }
          ],
          "sankey": [
           {
            "textfont": {
             "color": "#000036"
            },
            "type": "sankey"
           }
          ],
          "scatter": [
           {
            "marker": {
             "line": {
              "width": 0
             }
            },
            "type": "scatter"
           }
          ],
          "table": [
           {
            "cells": {
             "fill": {
              "color": "#000038"
             },
             "font": {
              "color": "#000037"
             },
             "line": {
              "color": "#000039"
             }
            },
            "header": {
             "fill": {
              "color": "#000040"
             },
             "font": {
              "color": "#000036"
             },
             "line": {
              "color": "#000039"
             }
            },
            "type": "table"
           }
          ],
          "waterfall": [
           {
            "connector": {
             "line": {
              "color": "#000036",
              "width": 2
             }
            },
            "decreasing": {
             "marker": {
              "color": "#000033"
             }
            },
            "increasing": {
             "marker": {
              "color": "#000032"
             }
            },
            "totals": {
             "marker": {
              "color": "#000034"
             }
            },
            "type": "waterfall"
           }
          ]
         },
         "layout": {
          "coloraxis": {
           "colorscale": [
            [
             0,
             "#000011"
            ],
            [
             0.1111111111111111,
             "#000012"
            ],
            [
             0.2222222222222222,
             "#000013"
            ],
            [
             0.3333333333333333,
             "#000014"
            ],
            [
             0.4444444444444444,
             "#000015"
            ],
            [
             0.5555555555555556,
             "#000016"
            ],
            [
             0.6666666666666666,
             "#000017"
            ],
            [
             0.7777777777777778,
             "#000018"
            ],
            [
             0.8888888888888888,
             "#000019"
            ],
            [
             1,
             "#000020"
            ]
           ]
          },
          "colorscale": {
           "diverging": [
            [
             0,
             "#000021"
            ],
            [
             0.1,
             "#000022"
            ],
            [
             0.2,
             "#000023"
            ],
            [
             0.3,
             "#000024"
            ],
            [
             0.4,
             "#000025"
            ],
            [
             0.5,
             "#000026"
            ],
            [
             0.6,
             "#000027"
            ],
            [
             0.7,
             "#000028"
            ],
            [
             0.8,
             "#000029"
            ],
            [
             0.9,
             "#000030"
            ],
            [
             1,
             "#000031"
            ]
           ],
           "sequential": [
            [
             0,
             "#000011"
            ],
            [
             0.1111111111111111,
             "#000012"
            ],
            [
             0.2222222222222222,
             "#000013"
            ],
            [
             0.3333333333333333,
             "#000014"
            ],
            [
             0.4444444444444444,
             "#000015"
            ],
            [
             0.5555555555555556,
             "#000016"
            ],
            [
             0.6666666666666666,
             "#000017"
            ],
            [
             0.7777777777777778,
             "#000018"
            ],
            [
             0.8888888888888888,
             "#000019"
            ],
            [
             1,
             "#000020"
            ]
           ],
           "sequentialminus": [
            [
             0,
             "#000011"
            ],
            [
             0.1111111111111111,
             "#000012"
            ],
            [
             0.2222222222222222,
             "#000013"
            ],
            [
             0.3333333333333333,
             "#000014"
            ],
            [
             0.4444444444444444,
             "#000015"
            ],
            [
             0.5555555555555556,
             "#000016"
            ],
            [
             0.6666666666666666,
             "#000017"
            ],
            [
             0.7777777777777778,
             "#000018"
            ],
            [
             0.8888888888888888,
             "#000019"
            ],
            [
             1,
             "#000020"
            ]
           ]
          },
          "colorway": [
           "#000001",
           "#000002",
           "#000003",
           "#000004",
           "#000005",
           "#000006",
           "#000007",
           "#000008",
           "#000009",
           "#000010"
          ]
         }
        },
        "title": {
         "text": "Distribución de Ventas por Región"
        }
       }
      }
     },
     "metadata": {},
     "output_type": "display_data"
    }
   ],
   "source": [
    "# Análisis por región\n",
    "df_region = df.groupby('region')['venta_total'].sum().reset_index()\n",
    "fig_region = px.pie(df_region, values='venta_total', names='region',\n",
    "                    title='Distribución de Ventas por Región',\n",
    "                    labels={'venta_total': 'Ventas Totales(€)', 'region': 'Región'})    \n",
    "\n",
    "#fig_region.show()"
   ]
  },
  {
   "cell_type": "code",
   "execution_count": null,
   "id": "22b38c9f",
   "metadata": {},
   "outputs": [
    {
     "data": {
      "application/vnd.plotly.v1+json": {
       "config": {
        "plotlyServerURL": "https://plot.ly"
       },
       "data": [
        {
         "coloraxis": "coloraxis",
         "hovertemplate": "x: %{x}<br>y: %{y}<br>color: %{z}<extra></extra>",
         "name": "0",
         "texttemplate": "%{z}",
         "type": "heatmap",
         "x": [
          "cantidad",
          "precio_unitario",
          "venta_total"
         ],
         "xaxis": "x",
         "y": [
          "cantidad",
          "precio_unitario",
          "venta_total"
         ],
         "yaxis": "y",
         "z": {
          "bdata": "AAAAAAAA8D+EqwKE8PlsP7fNuk2iAuQ/hKsChPD5bD8AAAAAAADwP30elWm6pOY/t826TaIC5D99HpVpuqTmPwAAAAAAAPA/",
          "dtype": "f8",
          "shape": "3, 3"
         }
        }
       ],
       "layout": {
        "coloraxis": {
         "colorscale": [
          [
           0,
           "#000011"
          ],
          [
           0.1111111111111111,
           "#000012"
          ],
          [
           0.2222222222222222,
           "#000013"
          ],
          [
           0.3333333333333333,
           "#000014"
          ],
          [
           0.4444444444444444,
           "#000015"
          ],
          [
           0.5555555555555556,
           "#000016"
          ],
          [
           0.6666666666666666,
           "#000017"
          ],
          [
           0.7777777777777778,
           "#000018"
          ],
          [
           0.8888888888888888,
           "#000019"
          ],
          [
           1,
           "#000020"
          ]
         ]
        },
        "template": {
         "data": {
          "candlestick": [
           {
            "decreasing": {
             "line": {
              "color": "#000033"
             }
            },
            "increasing": {
             "line": {
              "color": "#000032"
             }
            },
            "type": "candlestick"
           }
          ],
          "contour": [
           {
            "colorscale": [
             [
              0,
              "#000011"
             ],
             [
              0.1111111111111111,
              "#000012"
             ],
             [
              0.2222222222222222,
              "#000013"
             ],
             [
              0.3333333333333333,
              "#000014"
             ],
             [
              0.4444444444444444,
              "#000015"
             ],
             [
              0.5555555555555556,
              "#000016"
             ],
             [
              0.6666666666666666,
              "#000017"
             ],
             [
              0.7777777777777778,
              "#000018"
             ],
             [
              0.8888888888888888,
              "#000019"
             ],
             [
              1,
              "#000020"
             ]
            ],
            "type": "contour"
           }
          ],
          "contourcarpet": [
           {
            "colorscale": [
             [
              0,
              "#000011"
             ],
             [
              0.1111111111111111,
              "#000012"
             ],
             [
              0.2222222222222222,
              "#000013"
             ],
             [
              0.3333333333333333,
              "#000014"
             ],
             [
              0.4444444444444444,
              "#000015"
             ],
             [
              0.5555555555555556,
              "#000016"
             ],
             [
              0.6666666666666666,
              "#000017"
             ],
             [
              0.7777777777777778,
              "#000018"
             ],
             [
              0.8888888888888888,
              "#000019"
             ],
             [
              1,
              "#000020"
             ]
            ],
            "type": "contourcarpet"
           }
          ],
          "heatmap": [
           {
            "colorscale": [
             [
              0,
              "#000011"
             ],
             [
              0.1111111111111111,
              "#000012"
             ],
             [
              0.2222222222222222,
              "#000013"
             ],
             [
              0.3333333333333333,
              "#000014"
             ],
             [
              0.4444444444444444,
              "#000015"
             ],
             [
              0.5555555555555556,
              "#000016"
             ],
             [
              0.6666666666666666,
              "#000017"
             ],
             [
              0.7777777777777778,
              "#000018"
             ],
             [
              0.8888888888888888,
              "#000019"
             ],
             [
              1,
              "#000020"
             ]
            ],
            "type": "heatmap"
           }
          ],
          "histogram2d": [
           {
            "colorscale": [
             [
              0,
              "#000011"
             ],
             [
              0.1111111111111111,
              "#000012"
             ],
             [
              0.2222222222222222,
              "#000013"
             ],
             [
              0.3333333333333333,
              "#000014"
             ],
             [
              0.4444444444444444,
              "#000015"
             ],
             [
              0.5555555555555556,
              "#000016"
             ],
             [
              0.6666666666666666,
              "#000017"
             ],
             [
              0.7777777777777778,
              "#000018"
             ],
             [
              0.8888888888888888,
              "#000019"
             ],
             [
              1,
              "#000020"
             ]
            ],
            "type": "histogram2d"
           }
          ],
          "icicle": [
           {
            "textfont": {
             "color": "white"
            },
            "type": "icicle"
           }
          ],
          "sankey": [
           {
            "textfont": {
             "color": "#000036"
            },
            "type": "sankey"
           }
          ],
          "scatter": [
           {
            "marker": {
             "line": {
              "width": 0
             }
            },
            "type": "scatter"
           }
          ],
          "table": [
           {
            "cells": {
             "fill": {
              "color": "#000038"
             },
             "font": {
              "color": "#000037"
             },
             "line": {
              "color": "#000039"
             }
            },
            "header": {
             "fill": {
              "color": "#000040"
             },
             "font": {
              "color": "#000036"
             },
             "line": {
              "color": "#000039"
             }
            },
            "type": "table"
           }
          ],
          "waterfall": [
           {
            "connector": {
             "line": {
              "color": "#000036",
              "width": 2
             }
            },
            "decreasing": {
             "marker": {
              "color": "#000033"
             }
            },
            "increasing": {
             "marker": {
              "color": "#000032"
             }
            },
            "totals": {
             "marker": {
              "color": "#000034"
             }
            },
            "type": "waterfall"
           }
          ]
         },
         "layout": {
          "coloraxis": {
           "colorscale": [
            [
             0,
             "#000011"
            ],
            [
             0.1111111111111111,
             "#000012"
            ],
            [
             0.2222222222222222,
             "#000013"
            ],
            [
             0.3333333333333333,
             "#000014"
            ],
            [
             0.4444444444444444,
             "#000015"
            ],
            [
             0.5555555555555556,
             "#000016"
            ],
            [
             0.6666666666666666,
             "#000017"
            ],
            [
             0.7777777777777778,
             "#000018"
            ],
            [
             0.8888888888888888,
             "#000019"
            ],
            [
             1,
             "#000020"
            ]
           ]
          },
          "colorscale": {
           "diverging": [
            [
             0,
             "#000021"
            ],
            [
             0.1,
             "#000022"
            ],
            [
             0.2,
             "#000023"
            ],
            [
             0.3,
             "#000024"
            ],
            [
             0.4,
             "#000025"
            ],
            [
             0.5,
             "#000026"
            ],
            [
             0.6,
             "#000027"
            ],
            [
             0.7,
             "#000028"
            ],
            [
             0.8,
             "#000029"
            ],
            [
             0.9,
             "#000030"
            ],
            [
             1,
             "#000031"
            ]
           ],
           "sequential": [
            [
             0,
             "#000011"
            ],
            [
             0.1111111111111111,
             "#000012"
            ],
            [
             0.2222222222222222,
             "#000013"
            ],
            [
             0.3333333333333333,
             "#000014"
            ],
            [
             0.4444444444444444,
             "#000015"
            ],
            [
             0.5555555555555556,
             "#000016"
            ],
            [
             0.6666666666666666,
             "#000017"
            ],
            [
             0.7777777777777778,
             "#000018"
            ],
            [
             0.8888888888888888,
             "#000019"
            ],
            [
             1,
             "#000020"
            ]
           ],
           "sequentialminus": [
            [
             0,
             "#000011"
            ],
            [
             0.1111111111111111,
             "#000012"
            ],
            [
             0.2222222222222222,
             "#000013"
            ],
            [
             0.3333333333333333,
             "#000014"
            ],
            [
             0.4444444444444444,
             "#000015"
            ],
            [
             0.5555555555555556,
             "#000016"
            ],
            [
             0.6666666666666666,
             "#000017"
            ],
            [
             0.7777777777777778,
             "#000018"
            ],
            [
             0.8888888888888888,
             "#000019"
            ],
            [
             1,
             "#000020"
            ]
           ]
          },
          "colorway": [
           "#000001",
           "#000002",
           "#000003",
           "#000004",
           "#000005",
           "#000006",
           "#000007",
           "#000008",
           "#000009",
           "#000010"
          ]
         }
        },
        "title": {
         "text": "Correlación entre Variables Numéricas"
        },
        "xaxis": {
         "anchor": "y",
         "domain": [
          0,
          1
         ]
        },
        "yaxis": {
         "anchor": "x",
         "autorange": "reversed",
         "domain": [
          0,
          1
         ]
        }
       }
      }
     },
     "metadata": {},
     "output_type": "display_data"
    }
   ],
   "source": [
    "# correlacion entre variables\n",
    "df_coor = df[['cantidad', 'precio_unitario', 'venta_total']].corr()\n",
    "\n",
    "fig_heatmap = px.imshow(df_coor, text_auto=True, aspect='auto',\n",
    "                        title='Correlación entre Variables Numéricas')\n",
    "#fig_heatmap.show()"
   ]
  },
  {
   "cell_type": "code",
   "execution_count": null,
   "id": "dc768654",
   "metadata": {},
   "outputs": [
    {
     "data": {
      "application/vnd.plotly.v1+json": {
       "config": {
        "plotlyServerURL": "https://plot.ly"
       },
       "data": [
        {
         "bingroup": "x",
         "hovertemplate": "venta_total=%{x}<br>count=%{y}<extra></extra>",
         "legendgroup": "",
         "marker": {
          "color": "#000001",
          "pattern": {
           "shape": ""
          }
         },
         "name": "",
         "nbinsx": 20,
         "orientation": "v",
         "showlegend": false,
         "type": "histogram",
         "x": {
          "bdata": "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",
          "dtype": "f8"
         },
         "xaxis": "x",
         "yaxis": "y"
        }
       ],
       "layout": {
        "barmode": "relative",
        "legend": {
         "tracegroupgap": 0
        },
        "template": {
         "data": {
          "candlestick": [
           {
            "decreasing": {
             "line": {
              "color": "#000033"
             }
            },
            "increasing": {
             "line": {
              "color": "#000032"
             }
            },
            "type": "candlestick"
           }
          ],
          "contour": [
           {
            "colorscale": [
             [
              0,
              "#000011"
             ],
             [
              0.1111111111111111,
              "#000012"
             ],
             [
              0.2222222222222222,
              "#000013"
             ],
             [
              0.3333333333333333,
              "#000014"
             ],
             [
              0.4444444444444444,
              "#000015"
             ],
             [
              0.5555555555555556,
              "#000016"
             ],
             [
              0.6666666666666666,
              "#000017"
             ],
             [
              0.7777777777777778,
              "#000018"
             ],
             [
              0.8888888888888888,
              "#000019"
             ],
             [
              1,
              "#000020"
             ]
            ],
            "type": "contour"
           }
          ],
          "contourcarpet": [
           {
            "colorscale": [
             [
              0,
              "#000011"
             ],
             [
              0.1111111111111111,
              "#000012"
             ],
             [
              0.2222222222222222,
              "#000013"
             ],
             [
              0.3333333333333333,
              "#000014"
             ],
             [
              0.4444444444444444,
              "#000015"
             ],
             [
              0.5555555555555556,
              "#000016"
             ],
             [
              0.6666666666666666,
              "#000017"
             ],
             [
              0.7777777777777778,
              "#000018"
             ],
             [
              0.8888888888888888,
              "#000019"
             ],
             [
              1,
              "#000020"
             ]
            ],
            "type": "contourcarpet"
           }
          ],
          "heatmap": [
           {
            "colorscale": [
             [
              0,
              "#000011"
             ],
             [
              0.1111111111111111,
              "#000012"
             ],
             [
              0.2222222222222222,
              "#000013"
             ],
             [
              0.3333333333333333,
              "#000014"
             ],
             [
              0.4444444444444444,
              "#000015"
             ],
             [
              0.5555555555555556,
              "#000016"
             ],
             [
              0.6666666666666666,
              "#000017"
             ],
             [
              0.7777777777777778,
              "#000018"
             ],
             [
              0.8888888888888888,
              "#000019"
             ],
             [
              1,
              "#000020"
             ]
            ],
            "type": "heatmap"
           }
          ],
          "histogram2d": [
           {
            "colorscale": [
             [
              0,
              "#000011"
             ],
             [
              0.1111111111111111,
              "#000012"
             ],
             [
              0.2222222222222222,
              "#000013"
             ],
             [
              0.3333333333333333,
              "#000014"
             ],
             [
              0.4444444444444444,
              "#000015"
             ],
             [
              0.5555555555555556,
              "#000016"
             ],
             [
              0.6666666666666666,
              "#000017"
             ],
             [
              0.7777777777777778,
              "#000018"
             ],
             [
              0.8888888888888888,
              "#000019"
             ],
             [
              1,
              "#000020"
             ]
            ],
            "type": "histogram2d"
           }
          ],
          "icicle": [
           {
            "textfont": {
             "color": "white"
            },
            "type": "icicle"
           }
          ],
          "sankey": [
           {
            "textfont": {
             "color": "#000036"
            },
            "type": "sankey"
           }
          ],
          "scatter": [
           {
            "marker": {
             "line": {
              "width": 0
             }
            },
            "type": "scatter"
           }
          ],
          "table": [
           {
            "cells": {
             "fill": {
              "color": "#000038"
             },
             "font": {
              "color": "#000037"
             },
             "line": {
              "color": "#000039"
             }
            },
            "header": {
             "fill": {
              "color": "#000040"
             },
             "font": {
              "color": "#000036"
             },
             "line": {
              "color": "#000039"
             }
            },
            "type": "table"
           }
          ],
          "waterfall": [
           {
            "connector": {
             "line": {
              "color": "#000036",
              "width": 2
             }
            },
            "decreasing": {
             "marker": {
              "color": "#000033"
             }
            },
            "increasing": {
             "marker": {
              "color": "#000032"
             }
            },
            "totals": {
             "marker": {
              "color": "#000034"
             }
            },
            "type": "waterfall"
           }
          ]
         },
         "layout": {
          "coloraxis": {
           "colorscale": [
            [
             0,
             "#000011"
            ],
            [
             0.1111111111111111,
             "#000012"
            ],
            [
             0.2222222222222222,
             "#000013"
            ],
            [
             0.3333333333333333,
             "#000014"
            ],
            [
             0.4444444444444444,
             "#000015"
            ],
            [
             0.5555555555555556,
             "#000016"
            ],
            [
             0.6666666666666666,
             "#000017"
            ],
            [
             0.7777777777777778,
             "#000018"
            ],
            [
             0.8888888888888888,
             "#000019"
            ],
            [
             1,
             "#000020"
            ]
           ]
          },
          "colorscale": {
           "diverging": [
            [
             0,
             "#000021"
            ],
            [
             0.1,
             "#000022"
            ],
            [
             0.2,
             "#000023"
            ],
            [
             0.3,
             "#000024"
            ],
            [
             0.4,
             "#000025"
            ],
            [
             0.5,
             "#000026"
            ],
            [
             0.6,
             "#000027"
            ],
            [
             0.7,
             "#000028"
            ],
            [
             0.8,
             "#000029"
            ],
            [
             0.9,
             "#000030"
            ],
            [
             1,
             "#000031"
            ]
           ],
           "sequential": [
            [
             0,
             "#000011"
            ],
            [
             0.1111111111111111,
             "#000012"
            ],
            [
             0.2222222222222222,
             "#000013"
            ],
            [
             0.3333333333333333,
             "#000014"
            ],
            [
             0.4444444444444444,
             "#000015"
            ],
            [
             0.5555555555555556,
             "#000016"
            ],
            [
             0.6666666666666666,
             "#000017"
            ],
            [
             0.7777777777777778,
             "#000018"
            ],
            [
             0.8888888888888888,
             "#000019"
            ],
            [
             1,
             "#000020"
            ]
           ],
           "sequentialminus": [
            [
             0,
             "#000011"
            ],
            [
             0.1111111111111111,
             "#000012"
            ],
            [
             0.2222222222222222,
             "#000013"
            ],
            [
             0.3333333333333333,
             "#000014"
            ],
            [
             0.4444444444444444,
             "#000015"
            ],
            [
             0.5555555555555556,
             "#000016"
            ],
            [
             0.6666666666666666,
             "#000017"
            ],
            [
             0.7777777777777778,
             "#000018"
            ],
            [
             0.8888888888888888,
             "#000019"
            ],
            [
             1,
             "#000020"
            ]
           ]
          },
          "colorway": [
           "#000001",
           "#000002",
           "#000003",
           "#000004",
           "#000005",
           "#000006",
           "#000007",
           "#000008",
           "#000009",
           "#000010"
          ]
         }
        },
        "title": {
         "text": "Distribución de Ventas Totales"
        },
        "xaxis": {
         "anchor": "y",
         "domain": [
          0,
          1
         ],
         "title": {
          "text": "venta_total"
         }
        },
        "yaxis": {
         "anchor": "x",
         "domain": [
          0,
          1
         ],
         "title": {
          "text": "count"
         }
        }
       }
      }
     },
     "metadata": {},
     "output_type": "display_data"
    }
   ],
   "source": [
    "# Distribución de ventas \n",
    "fig_histograma = px.histogram(df, x='venta_total', nbins=20,\n",
    "                              title='Distribución de Ventas Totales')\n",
    "#fig_histograma.show()\n",
    "\n",
    "#fig_histograma.show(renderer='browser')\n"
   ]
  },
  {
   "cell_type": "markdown",
   "id": "8d3e5335",
   "metadata": {},
   "source": [
    "CONFIGURACIÓN DEl DASHBOARD"
   ]
  },
  {
   "cell_type": "code",
   "execution_count": null,
   "id": "dcb29419",
   "metadata": {},
   "outputs": [
    {
     "name": "stderr",
     "output_type": "stream",
     "text": [
      "2025-05-31 21:35:01.459 WARNING streamlit.runtime.scriptrunner_utils.script_run_context: Thread 'MainThread': missing ScriptRunContext! This warning can be ignored when running in bare mode.\n"
     ]
    }
   ],
   "source": [
    "# Titulo e icono\n",
    "st.set_page_config(page_title='Dashboard de Ventas',\n",
    "                   page_icon='📊', layout='wide')\n"
   ]
  },
  {
   "cell_type": "code",
   "execution_count": null,
   "id": "6676adcc",
   "metadata": {},
   "outputs": [
    {
     "name": "stderr",
     "output_type": "stream",
     "text": [
      "2025-05-31 21:54:24.377 WARNING streamlit.runtime.scriptrunner_utils.script_run_context: Thread 'MainThread': missing ScriptRunContext! This warning can be ignored when running in bare mode.\n",
      "2025-05-31 21:54:24.734 \n",
      "  \u001b[33m\u001b[1mWarning:\u001b[0m to view this Streamlit app on a browser, run it with the following\n",
      "  command:\n",
      "\n",
      "    streamlit run c:\\Users\\ander\\Escritorio\\PYTHON\\Python 2025\\dashboard_streamlit_plotly\\dashboard_env\\Lib\\site-packages\\ipykernel_launcher.py [ARGUMENTS]\n",
      "2025-05-31 21:54:24.736 Thread 'MainThread': missing ScriptRunContext! This warning can be ignored when running in bare mode.\n",
      "2025-05-31 21:54:24.738 Thread 'MainThread': missing ScriptRunContext! This warning can be ignored when running in bare mode.\n",
      "2025-05-31 21:54:24.739 Thread 'MainThread': missing ScriptRunContext! This warning can be ignored when running in bare mode.\n"
     ]
    },
    {
     "data": {
      "text/plain": [
       "DeltaGenerator()"
      ]
     },
     "execution_count": 34,
     "metadata": {},
     "output_type": "execute_result"
    }
   ],
   "source": [
    "# Título Principal\n",
    "st.title('📊 Dashboard de Ventas')\n",
    "st.markdown('---')"
   ]
  },
  {
   "cell_type": "code",
   "execution_count": 35,
   "id": "02af3812",
   "metadata": {},
   "outputs": [
    {
     "name": "stderr",
     "output_type": "stream",
     "text": [
      "2025-05-31 22:04:14.967 Thread 'MainThread': missing ScriptRunContext! This warning can be ignored when running in bare mode.\n",
      "2025-05-31 22:04:14.969 Thread 'MainThread': missing ScriptRunContext! This warning can be ignored when running in bare mode.\n",
      "2025-05-31 22:04:14.974 Thread 'MainThread': missing ScriptRunContext! This warning can be ignored when running in bare mode.\n",
      "2025-05-31 22:04:14.976 Thread 'MainThread': missing ScriptRunContext! This warning can be ignored when running in bare mode.\n",
      "2025-05-31 22:04:14.982 Thread 'MainThread': missing ScriptRunContext! This warning can be ignored when running in bare mode.\n",
      "2025-05-31 22:04:14.987 Thread 'MainThread': missing ScriptRunContext! This warning can be ignored when running in bare mode.\n",
      "2025-05-31 22:04:14.989 Thread 'MainThread': missing ScriptRunContext! This warning can be ignored when running in bare mode.\n"
     ]
    }
   ],
   "source": [
    "# Slider para filtros\n",
    "st.sidebar.header('Filtros')\n",
    "productos_seleccionados = st.sidebar.multiselect(\n",
    "    'Selecciona Productos:',\n",
    "    options=df['producto'].unique(),\n",
    "    default=df['producto'].unique()\n",
    ")\n"
   ]
  },
  {
   "cell_type": "code",
   "execution_count": null,
   "id": "5758f543",
   "metadata": {},
   "outputs": [],
   "source": []
  }
 ],
 "metadata": {
  "kernelspec": {
   "display_name": "dashboard_env",
   "language": "python",
   "name": "python3"
  },
  "language_info": {
   "codemirror_mode": {
    "name": "ipython",
    "version": 3
   },
   "file_extension": ".py",
   "mimetype": "text/x-python",
   "name": "python",
   "nbconvert_exporter": "python",
   "pygments_lexer": "ipython3",
   "version": "3.12.9"
  }
 },
 "nbformat": 4,
 "nbformat_minor": 5
}
