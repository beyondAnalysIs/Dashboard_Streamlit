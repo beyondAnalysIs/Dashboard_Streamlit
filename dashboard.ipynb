{
 "cells": [
  {
   "cell_type": "code",
   "execution_count": 1,
   "id": "019825ff",
   "metadata": {},
   "outputs": [],
   "source": [
    "import streamlit as st \n",
    "import pandas as pd\n",
    "import numpy as np\n",
    "import plotly.express as px\n",
    "import plotly.graph_objects as go\n",
    "from plotly.subplots import make_subplots\n",
    "import seaborn as sns\n",
    "import matplotlib.pyplot as plt\n",
    "from datetime import datetime, timedelta"
   ]
  },
  {
   "cell_type": "code",
   "execution_count": 2,
   "id": "5c930d3a",
   "metadata": {},
   "outputs": [
    {
     "data": {
      "text/html": [
       "<div>\n",
       "<style scoped>\n",
       "    .dataframe tbody tr th:only-of-type {\n",
       "        vertical-align: middle;\n",
       "    }\n",
       "\n",
       "    .dataframe tbody tr th {\n",
       "        vertical-align: top;\n",
       "    }\n",
       "\n",
       "    .dataframe thead th {\n",
       "        text-align: right;\n",
       "    }\n",
       "</style>\n",
       "<table border=\"1\" class=\"dataframe\">\n",
       "  <thead>\n",
       "    <tr style=\"text-align: right;\">\n",
       "      <th></th>\n",
       "      <th>fecha</th>\n",
       "      <th>producto</th>\n",
       "      <th>region</th>\n",
       "      <th>cantidad</th>\n",
       "      <th>precio_unitario</th>\n",
       "      <th>vendedor</th>\n",
       "    </tr>\n",
       "  </thead>\n",
       "  <tbody>\n",
       "    <tr>\n",
       "      <th>0</th>\n",
       "      <td>2023-01-01</td>\n",
       "      <td>Mouse</td>\n",
       "      <td>Este</td>\n",
       "      <td>3</td>\n",
       "      <td>715.910893</td>\n",
       "      <td>Vendedor_4</td>\n",
       "    </tr>\n",
       "    <tr>\n",
       "      <th>1</th>\n",
       "      <td>2023-01-01</td>\n",
       "      <td>Teclado</td>\n",
       "      <td>Centro</td>\n",
       "      <td>2</td>\n",
       "      <td>1096.898220</td>\n",
       "      <td>Vendedor_6</td>\n",
       "    </tr>\n",
       "    <tr>\n",
       "      <th>2</th>\n",
       "      <td>2023-01-01</td>\n",
       "      <td>Mouse</td>\n",
       "      <td>Oeste</td>\n",
       "      <td>5</td>\n",
       "      <td>945.348189</td>\n",
       "      <td>Vendedor_12</td>\n",
       "    </tr>\n",
       "    <tr>\n",
       "      <th>3</th>\n",
       "      <td>2023-01-01</td>\n",
       "      <td>Laptop</td>\n",
       "      <td>Norte</td>\n",
       "      <td>3</td>\n",
       "      <td>937.186697</td>\n",
       "      <td>Vendedor_10</td>\n",
       "    </tr>\n",
       "    <tr>\n",
       "      <th>4</th>\n",
       "      <td>2023-01-01</td>\n",
       "      <td>Monitor</td>\n",
       "      <td>Oeste</td>\n",
       "      <td>3</td>\n",
       "      <td>604.569887</td>\n",
       "      <td>Vendedor_20</td>\n",
       "    </tr>\n",
       "    <tr>\n",
       "      <th>5</th>\n",
       "      <td>2023-01-01</td>\n",
       "      <td>Laptop</td>\n",
       "      <td>Este</td>\n",
       "      <td>5</td>\n",
       "      <td>930.940035</td>\n",
       "      <td>Vendedor_9</td>\n",
       "    </tr>\n",
       "    <tr>\n",
       "      <th>6</th>\n",
       "      <td>2023-01-01</td>\n",
       "      <td>Mouse</td>\n",
       "      <td>Oeste</td>\n",
       "      <td>1</td>\n",
       "      <td>1450.166448</td>\n",
       "      <td>Vendedor_18</td>\n",
       "    </tr>\n",
       "    <tr>\n",
       "      <th>7</th>\n",
       "      <td>2023-01-01</td>\n",
       "      <td>Mouse</td>\n",
       "      <td>Norte</td>\n",
       "      <td>2</td>\n",
       "      <td>191.624565</td>\n",
       "      <td>Vendedor_20</td>\n",
       "    </tr>\n",
       "    <tr>\n",
       "      <th>8</th>\n",
       "      <td>2023-01-01</td>\n",
       "      <td>Monitor</td>\n",
       "      <td>Oeste</td>\n",
       "      <td>4</td>\n",
       "      <td>768.006520</td>\n",
       "      <td>Vendedor_15</td>\n",
       "    </tr>\n",
       "    <tr>\n",
       "      <th>9</th>\n",
       "      <td>2023-01-01</td>\n",
       "      <td>Teclado</td>\n",
       "      <td>Norte</td>\n",
       "      <td>4</td>\n",
       "      <td>314.242327</td>\n",
       "      <td>Vendedor_4</td>\n",
       "    </tr>\n",
       "  </tbody>\n",
       "</table>\n",
       "</div>"
      ],
      "text/plain": [
       "       fecha producto  region  cantidad  precio_unitario     vendedor\n",
       "0 2023-01-01    Mouse    Este         3       715.910893   Vendedor_4\n",
       "1 2023-01-01  Teclado  Centro         2      1096.898220   Vendedor_6\n",
       "2 2023-01-01    Mouse   Oeste         5       945.348189  Vendedor_12\n",
       "3 2023-01-01   Laptop   Norte         3       937.186697  Vendedor_10\n",
       "4 2023-01-01  Monitor   Oeste         3       604.569887  Vendedor_20\n",
       "5 2023-01-01   Laptop    Este         5       930.940035   Vendedor_9\n",
       "6 2023-01-01    Mouse   Oeste         1      1450.166448  Vendedor_18\n",
       "7 2023-01-01    Mouse   Norte         2       191.624565  Vendedor_20\n",
       "8 2023-01-01  Monitor   Oeste         4       768.006520  Vendedor_15\n",
       "9 2023-01-01  Teclado   Norte         4       314.242327   Vendedor_4"
      ]
     },
     "execution_count": 2,
     "metadata": {},
     "output_type": "execute_result"
    }
   ],
   "source": [
    "# Datos \n",
    "np.random.seed(42)\n",
    "fechas= pd.date_range('2023-01-01', '2024-12-31', freq='D') \n",
    "num_productos= ['Laptop', 'Mouse', 'Teclado', 'Monitor', 'Auriculares']\n",
    "regiones = ['Norte', 'Sur', 'Este', 'Oeste', 'Centro']\n",
    "\n",
    "# dataset\n",
    "data = []\n",
    "\n",
    "for fecha in fechas:\n",
    "    for _ in range(np.random.poisson(10)):\n",
    "        data.append({\n",
    "            'fecha': fecha,\n",
    "            'producto' : np.random.choice(num_productos),\n",
    "            'region' : np.random.choice(regiones),\n",
    "            'cantidad': np.random.randint(1, 6),\n",
    "            'precio_unitario': np.random.uniform(50, 1500),\n",
    "            'vendedor' : f'Vendedor_{np.random.randint(1, 21)}'\n",
    "        })\n",
    "        \n",
    "df = pd.DataFrame(data)\n",
    "df.head(10)\n"
   ]
  },
  {
   "cell_type": "code",
   "execution_count": 3,
   "id": "a4853f65",
   "metadata": {},
   "outputs": [
    {
     "data": {
      "text/html": [
       "<div>\n",
       "<style scoped>\n",
       "    .dataframe tbody tr th:only-of-type {\n",
       "        vertical-align: middle;\n",
       "    }\n",
       "\n",
       "    .dataframe tbody tr th {\n",
       "        vertical-align: top;\n",
       "    }\n",
       "\n",
       "    .dataframe thead th {\n",
       "        text-align: right;\n",
       "    }\n",
       "</style>\n",
       "<table border=\"1\" class=\"dataframe\">\n",
       "  <thead>\n",
       "    <tr style=\"text-align: right;\">\n",
       "      <th></th>\n",
       "      <th>fecha</th>\n",
       "      <th>producto</th>\n",
       "      <th>region</th>\n",
       "      <th>cantidad</th>\n",
       "      <th>precio_unitario</th>\n",
       "      <th>vendedor</th>\n",
       "      <th>venta_total</th>\n",
       "    </tr>\n",
       "  </thead>\n",
       "  <tbody>\n",
       "    <tr>\n",
       "      <th>0</th>\n",
       "      <td>2023-01-01</td>\n",
       "      <td>Mouse</td>\n",
       "      <td>Este</td>\n",
       "      <td>3</td>\n",
       "      <td>715.910893</td>\n",
       "      <td>Vendedor_4</td>\n",
       "      <td>2147.732680</td>\n",
       "    </tr>\n",
       "    <tr>\n",
       "      <th>1</th>\n",
       "      <td>2023-01-01</td>\n",
       "      <td>Teclado</td>\n",
       "      <td>Centro</td>\n",
       "      <td>2</td>\n",
       "      <td>1096.898220</td>\n",
       "      <td>Vendedor_6</td>\n",
       "      <td>2193.796440</td>\n",
       "    </tr>\n",
       "    <tr>\n",
       "      <th>2</th>\n",
       "      <td>2023-01-01</td>\n",
       "      <td>Mouse</td>\n",
       "      <td>Oeste</td>\n",
       "      <td>5</td>\n",
       "      <td>945.348189</td>\n",
       "      <td>Vendedor_12</td>\n",
       "      <td>4726.740945</td>\n",
       "    </tr>\n",
       "    <tr>\n",
       "      <th>3</th>\n",
       "      <td>2023-01-01</td>\n",
       "      <td>Laptop</td>\n",
       "      <td>Norte</td>\n",
       "      <td>3</td>\n",
       "      <td>937.186697</td>\n",
       "      <td>Vendedor_10</td>\n",
       "      <td>2811.560092</td>\n",
       "    </tr>\n",
       "    <tr>\n",
       "      <th>4</th>\n",
       "      <td>2023-01-01</td>\n",
       "      <td>Monitor</td>\n",
       "      <td>Oeste</td>\n",
       "      <td>3</td>\n",
       "      <td>604.569887</td>\n",
       "      <td>Vendedor_20</td>\n",
       "      <td>1813.709662</td>\n",
       "    </tr>\n",
       "  </tbody>\n",
       "</table>\n",
       "</div>"
      ],
      "text/plain": [
       "       fecha producto  region  cantidad  precio_unitario     vendedor  \\\n",
       "0 2023-01-01    Mouse    Este         3       715.910893   Vendedor_4   \n",
       "1 2023-01-01  Teclado  Centro         2      1096.898220   Vendedor_6   \n",
       "2 2023-01-01    Mouse   Oeste         5       945.348189  Vendedor_12   \n",
       "3 2023-01-01   Laptop   Norte         3       937.186697  Vendedor_10   \n",
       "4 2023-01-01  Monitor   Oeste         3       604.569887  Vendedor_20   \n",
       "\n",
       "   venta_total  \n",
       "0  2147.732680  \n",
       "1  2193.796440  \n",
       "2  4726.740945  \n",
       "3  2811.560092  \n",
       "4  1813.709662  "
      ]
     },
     "execution_count": 3,
     "metadata": {},
     "output_type": "execute_result"
    }
   ],
   "source": [
    "# columna de ventas totales\n",
    "df['venta_total'] = df['cantidad'] * df['precio_unitario']\n",
    "df.head()"
   ]
  },
  {
   "cell_type": "markdown",
   "id": "0bcefce1",
   "metadata": {},
   "source": [
    "EXPLORANDO DATOS"
   ]
  },
  {
   "cell_type": "code",
   "execution_count": 4,
   "id": "c3e05ee7",
   "metadata": {},
   "outputs": [
    {
     "name": "stdout",
     "output_type": "stream",
     "text": [
      "Shape del dataset: \n",
      " (7253, 7)\n",
      "\n"
     ]
    }
   ],
   "source": [
    "# Shape. (filas,columnas)\n",
    "print(f'Shape del dataset: \\n {df.shape}\\n')"
   ]
  },
  {
   "cell_type": "code",
   "execution_count": 5,
   "id": "0cc52f4d",
   "metadata": {},
   "outputs": [
    {
     "name": "stdout",
     "output_type": "stream",
     "text": [
      "<class 'pandas.core.frame.DataFrame'>\n",
      "RangeIndex: 7253 entries, 0 to 7252\n",
      "Data columns (total 7 columns):\n",
      " #   Column           Non-Null Count  Dtype         \n",
      "---  ------           --------------  -----         \n",
      " 0   fecha            7253 non-null   datetime64[ns]\n",
      " 1   producto         7253 non-null   object        \n",
      " 2   region           7253 non-null   object        \n",
      " 3   cantidad         7253 non-null   int64         \n",
      " 4   precio_unitario  7253 non-null   float64       \n",
      " 5   vendedor         7253 non-null   object        \n",
      " 6   venta_total      7253 non-null   float64       \n",
      "dtypes: datetime64[ns](1), float64(2), int64(1), object(3)\n",
      "memory usage: 396.8+ KB\n",
      "Información general del dataset: \n",
      " None\n",
      "\n",
      "<class 'pandas.core.frame.DataFrame'>\n",
      "RangeIndex: 7253 entries, 0 to 7252\n",
      "Data columns (total 7 columns):\n",
      " #   Column           Non-Null Count  Dtype         \n",
      "---  ------           --------------  -----         \n",
      " 0   fecha            7253 non-null   datetime64[ns]\n",
      " 1   producto         7253 non-null   object        \n",
      " 2   region           7253 non-null   object        \n",
      " 3   cantidad         7253 non-null   int64         \n",
      " 4   precio_unitario  7253 non-null   float64       \n",
      " 5   vendedor         7253 non-null   object        \n",
      " 6   venta_total      7253 non-null   float64       \n",
      "dtypes: datetime64[ns](1), float64(2), int64(1), object(3)\n",
      "memory usage: 396.8+ KB\n"
     ]
    }
   ],
   "source": [
    "# info. (tipo de datos, valores nulos, memoria)\n",
    "print(f'Información general del dataset: \\n {df.info()}\\n')\n",
    "df.info()"
   ]
  },
  {
   "cell_type": "code",
   "execution_count": 6,
   "id": "216145de",
   "metadata": {},
   "outputs": [
    {
     "name": "stdout",
     "output_type": "stream",
     "text": [
      "Estadísticas descriptivas: \n",
      "                                fecha     cantidad  precio_unitario  \\\n",
      "count                           7253  7253.000000      7253.000000   \n",
      "mean   2023-12-28 05:04:33.486833152     3.011995       771.204622   \n",
      "min              2023-01-01 00:00:00     1.000000        50.211363   \n",
      "25%              2023-06-30 00:00:00     2.000000       416.385460   \n",
      "50%              2023-12-26 00:00:00     3.000000       767.047548   \n",
      "75%              2024-06-25 00:00:00     4.000000      1121.608562   \n",
      "max              2024-12-31 00:00:00     5.000000      1499.962108   \n",
      "std                              NaN     1.421020       412.857448   \n",
      "\n",
      "       venta_total  \n",
      "count  7253.000000  \n",
      "mean   2324.939379  \n",
      "min      50.349268  \n",
      "25%     902.734548  \n",
      "50%    1865.436770  \n",
      "75%    3425.496465  \n",
      "max    7499.221834  \n",
      "std    1762.451173  \n",
      "\n"
     ]
    }
   ],
   "source": [
    "# estadisticas descriptivas\n",
    "print(f'Estadísticas descriptivas: \\n {df.describe()}\\n')"
   ]
  },
  {
   "cell_type": "code",
   "execution_count": 7,
   "id": "e12ead8c",
   "metadata": {},
   "outputs": [
    {
     "data": {
      "text/html": [
       "<div>\n",
       "<style scoped>\n",
       "    .dataframe tbody tr th:only-of-type {\n",
       "        vertical-align: middle;\n",
       "    }\n",
       "\n",
       "    .dataframe tbody tr th {\n",
       "        vertical-align: top;\n",
       "    }\n",
       "\n",
       "    .dataframe thead th {\n",
       "        text-align: right;\n",
       "    }\n",
       "</style>\n",
       "<table border=\"1\" class=\"dataframe\">\n",
       "  <thead>\n",
       "    <tr style=\"text-align: right;\">\n",
       "      <th></th>\n",
       "      <th>fecha</th>\n",
       "      <th>venta_total</th>\n",
       "    </tr>\n",
       "  </thead>\n",
       "  <tbody>\n",
       "    <tr>\n",
       "      <th>0</th>\n",
       "      <td>2023-01</td>\n",
       "      <td>698236.092223</td>\n",
       "    </tr>\n",
       "    <tr>\n",
       "      <th>1</th>\n",
       "      <td>2023-02</td>\n",
       "      <td>771177.713696</td>\n",
       "    </tr>\n",
       "    <tr>\n",
       "      <th>2</th>\n",
       "      <td>2023-03</td>\n",
       "      <td>703929.404650</td>\n",
       "    </tr>\n",
       "    <tr>\n",
       "      <th>3</th>\n",
       "      <td>2023-04</td>\n",
       "      <td>681246.244939</td>\n",
       "    </tr>\n",
       "    <tr>\n",
       "      <th>4</th>\n",
       "      <td>2023-05</td>\n",
       "      <td>656314.326446</td>\n",
       "    </tr>\n",
       "    <tr>\n",
       "      <th>5</th>\n",
       "      <td>2023-06</td>\n",
       "      <td>665508.801351</td>\n",
       "    </tr>\n",
       "    <tr>\n",
       "      <th>6</th>\n",
       "      <td>2023-07</td>\n",
       "      <td>801100.457396</td>\n",
       "    </tr>\n",
       "    <tr>\n",
       "      <th>7</th>\n",
       "      <td>2023-08</td>\n",
       "      <td>769081.345479</td>\n",
       "    </tr>\n",
       "    <tr>\n",
       "      <th>8</th>\n",
       "      <td>2023-09</td>\n",
       "      <td>694692.878027</td>\n",
       "    </tr>\n",
       "    <tr>\n",
       "      <th>9</th>\n",
       "      <td>2023-10</td>\n",
       "      <td>654356.720898</td>\n",
       "    </tr>\n",
       "    <tr>\n",
       "      <th>10</th>\n",
       "      <td>2023-11</td>\n",
       "      <td>709220.022601</td>\n",
       "    </tr>\n",
       "    <tr>\n",
       "      <th>11</th>\n",
       "      <td>2023-12</td>\n",
       "      <td>717784.025912</td>\n",
       "    </tr>\n",
       "    <tr>\n",
       "      <th>12</th>\n",
       "      <td>2024-01</td>\n",
       "      <td>769067.345798</td>\n",
       "    </tr>\n",
       "    <tr>\n",
       "      <th>13</th>\n",
       "      <td>2024-02</td>\n",
       "      <td>654218.138239</td>\n",
       "    </tr>\n",
       "    <tr>\n",
       "      <th>14</th>\n",
       "      <td>2024-03</td>\n",
       "      <td>731737.821340</td>\n",
       "    </tr>\n",
       "    <tr>\n",
       "      <th>15</th>\n",
       "      <td>2024-04</td>\n",
       "      <td>673054.432722</td>\n",
       "    </tr>\n",
       "    <tr>\n",
       "      <th>16</th>\n",
       "      <td>2024-05</td>\n",
       "      <td>805671.131807</td>\n",
       "    </tr>\n",
       "    <tr>\n",
       "      <th>17</th>\n",
       "      <td>2024-06</td>\n",
       "      <td>651905.878060</td>\n",
       "    </tr>\n",
       "    <tr>\n",
       "      <th>18</th>\n",
       "      <td>2024-07</td>\n",
       "      <td>662690.293155</td>\n",
       "    </tr>\n",
       "    <tr>\n",
       "      <th>19</th>\n",
       "      <td>2024-08</td>\n",
       "      <td>695045.454070</td>\n",
       "    </tr>\n",
       "    <tr>\n",
       "      <th>20</th>\n",
       "      <td>2024-09</td>\n",
       "      <td>680720.866772</td>\n",
       "    </tr>\n",
       "    <tr>\n",
       "      <th>21</th>\n",
       "      <td>2024-10</td>\n",
       "      <td>651698.171159</td>\n",
       "    </tr>\n",
       "    <tr>\n",
       "      <th>22</th>\n",
       "      <td>2024-11</td>\n",
       "      <td>725161.500389</td>\n",
       "    </tr>\n",
       "    <tr>\n",
       "      <th>23</th>\n",
       "      <td>2024-12</td>\n",
       "      <td>639166.246043</td>\n",
       "    </tr>\n",
       "  </tbody>\n",
       "</table>\n",
       "</div>"
      ],
      "text/plain": [
       "      fecha    venta_total\n",
       "0   2023-01  698236.092223\n",
       "1   2023-02  771177.713696\n",
       "2   2023-03  703929.404650\n",
       "3   2023-04  681246.244939\n",
       "4   2023-05  656314.326446\n",
       "5   2023-06  665508.801351\n",
       "6   2023-07  801100.457396\n",
       "7   2023-08  769081.345479\n",
       "8   2023-09  694692.878027\n",
       "9   2023-10  654356.720898\n",
       "10  2023-11  709220.022601\n",
       "11  2023-12  717784.025912\n",
       "12  2024-01  769067.345798\n",
       "13  2024-02  654218.138239\n",
       "14  2024-03  731737.821340\n",
       "15  2024-04  673054.432722\n",
       "16  2024-05  805671.131807\n",
       "17  2024-06  651905.878060\n",
       "18  2024-07  662690.293155\n",
       "19  2024-08  695045.454070\n",
       "20  2024-09  680720.866772\n",
       "21  2024-10  651698.171159\n",
       "22  2024-11  725161.500389\n",
       "23  2024-12  639166.246043"
      ]
     },
     "execution_count": 7,
     "metadata": {},
     "output_type": "execute_result"
    }
   ],
   "source": [
    "# ventas por mes\n",
    "df_mes = df.groupby(df['fecha'].dt.to_period('M'))['venta_total'].sum().reset_index()\n",
    "df_mes['fecha'] = df_mes['fecha'].astype(str)\n",
    "df_mes "
   ]
  },
  {
   "cell_type": "code",
   "execution_count": 8,
   "id": "cc8d22d9",
   "metadata": {},
   "outputs": [
    {
     "data": {
      "application/vnd.plotly.v1+json": {
       "config": {
        "plotlyServerURL": "https://plot.ly"
       },
       "data": [
        {
         "hovertemplate": "Mes=%{x}<br>Ventas (€)=%{y}<extra></extra>",
         "legendgroup": "",
         "line": {
          "color": "#000001",
          "dash": "solid",
          "width": 3
         },
         "marker": {
          "symbol": "circle"
         },
         "mode": "lines",
         "name": "",
         "orientation": "v",
         "showlegend": false,
         "type": "scatter",
         "x": [
          "2023-01",
          "2023-02",
          "2023-03",
          "2023-04",
          "2023-05",
          "2023-06",
          "2023-07",
          "2023-08",
          "2023-09",
          "2023-10",
          "2023-11",
          "2023-12",
          "2024-01",
          "2024-02",
          "2024-03",
          "2024-04",
          "2024-05",
          "2024-06",
          "2024-07",
          "2024-08",
          "2024-09",
          "2024-10",
          "2024-11",
          "2024-12"
         ],
         "xaxis": "x",
         "y": {
          "bdata": "KuI3L/hOJUHKh2lt04gnQQ9NLs9yeyVBp6BofTzKJEEs8COndAckQYqiSppJTyRB6NMv6phyKEH+quKwcngnQXHAjMFJMyVBmZoZcSn4I0G1YpILyKQlQZplRA2w5yVBT3sMsVZ4J0HpR8dGFPcjQS+7hqSzVCZB4reN3TyKJEEjQXxDTpYoQR8gkcED5SNB32cYlkQ5JEF02XvoCjYlQc2GybshxiRBPjGiV2TjI0GD9TIAUyEmQSdf+X18gSNB",
          "dtype": "f8"
         },
         "yaxis": "y"
        }
       ],
       "layout": {
        "legend": {
         "tracegroupgap": 0
        },
        "template": {
         "data": {
          "candlestick": [
           {
            "decreasing": {
             "line": {
              "color": "#000033"
             }
            },
            "increasing": {
             "line": {
              "color": "#000032"
             }
            },
            "type": "candlestick"
           }
          ],
          "contour": [
           {
            "colorscale": [
             [
              0,
              "#000011"
             ],
             [
              0.1111111111111111,
              "#000012"
             ],
             [
              0.2222222222222222,
              "#000013"
             ],
             [
              0.3333333333333333,
              "#000014"
             ],
             [
              0.4444444444444444,
              "#000015"
             ],
             [
              0.5555555555555556,
              "#000016"
             ],
             [
              0.6666666666666666,
              "#000017"
             ],
             [
              0.7777777777777778,
              "#000018"
             ],
             [
              0.8888888888888888,
              "#000019"
             ],
             [
              1,
              "#000020"
             ]
            ],
            "type": "contour"
           }
          ],
          "contourcarpet": [
           {
            "colorscale": [
             [
              0,
              "#000011"
             ],
             [
              0.1111111111111111,
              "#000012"
             ],
             [
              0.2222222222222222,
              "#000013"
             ],
             [
              0.3333333333333333,
              "#000014"
             ],
             [
              0.4444444444444444,
              "#000015"
             ],
             [
              0.5555555555555556,
              "#000016"
             ],
             [
              0.6666666666666666,
              "#000017"
             ],
             [
              0.7777777777777778,
              "#000018"
             ],
             [
              0.8888888888888888,
              "#000019"
             ],
             [
              1,
              "#000020"
             ]
            ],
            "type": "contourcarpet"
           }
          ],
          "heatmap": [
           {
            "colorscale": [
             [
              0,
              "#000011"
             ],
             [
              0.1111111111111111,
              "#000012"
             ],
             [
              0.2222222222222222,
              "#000013"
             ],
             [
              0.3333333333333333,
              "#000014"
             ],
             [
              0.4444444444444444,
              "#000015"
             ],
             [
              0.5555555555555556,
              "#000016"
             ],
             [
              0.6666666666666666,
              "#000017"
             ],
             [
              0.7777777777777778,
              "#000018"
             ],
             [
              0.8888888888888888,
              "#000019"
             ],
             [
              1,
              "#000020"
             ]
            ],
            "type": "heatmap"
           }
          ],
          "histogram2d": [
           {
            "colorscale": [
             [
              0,
              "#000011"
             ],
             [
              0.1111111111111111,
              "#000012"
             ],
             [
              0.2222222222222222,
              "#000013"
             ],
             [
              0.3333333333333333,
              "#000014"
             ],
             [
              0.4444444444444444,
              "#000015"
             ],
             [
              0.5555555555555556,
              "#000016"
             ],
             [
              0.6666666666666666,
              "#000017"
             ],
             [
              0.7777777777777778,
              "#000018"
             ],
             [
              0.8888888888888888,
              "#000019"
             ],
             [
              1,
              "#000020"
             ]
            ],
            "type": "histogram2d"
           }
          ],
          "icicle": [
           {
            "textfont": {
             "color": "white"
            },
            "type": "icicle"
           }
          ],
          "sankey": [
           {
            "textfont": {
             "color": "#000036"
            },
            "type": "sankey"
           }
          ],
          "scatter": [
           {
            "marker": {
             "line": {
              "width": 0
             }
            },
            "type": "scatter"
           }
          ],
          "table": [
           {
            "cells": {
             "fill": {
              "color": "#000038"
             },
             "font": {
              "color": "#000037"
             },
             "line": {
              "color": "#000039"
             }
            },
            "header": {
             "fill": {
              "color": "#000040"
             },
             "font": {
              "color": "#000036"
             },
             "line": {
              "color": "#000039"
             }
            },
            "type": "table"
           }
          ],
          "waterfall": [
           {
            "connector": {
             "line": {
              "color": "#000036",
              "width": 2
             }
            },
            "decreasing": {
             "marker": {
              "color": "#000033"
             }
            },
            "increasing": {
             "marker": {
              "color": "#000032"
             }
            },
            "totals": {
             "marker": {
              "color": "#000034"
             }
            },
            "type": "waterfall"
           }
          ]
         },
         "layout": {
          "coloraxis": {
           "colorscale": [
            [
             0,
             "#000011"
            ],
            [
             0.1111111111111111,
             "#000012"
            ],
            [
             0.2222222222222222,
             "#000013"
            ],
            [
             0.3333333333333333,
             "#000014"
            ],
            [
             0.4444444444444444,
             "#000015"
            ],
            [
             0.5555555555555556,
             "#000016"
            ],
            [
             0.6666666666666666,
             "#000017"
            ],
            [
             0.7777777777777778,
             "#000018"
            ],
            [
             0.8888888888888888,
             "#000019"
            ],
            [
             1,
             "#000020"
            ]
           ]
          },
          "colorscale": {
           "diverging": [
            [
             0,
             "#000021"
            ],
            [
             0.1,
             "#000022"
            ],
            [
             0.2,
             "#000023"
            ],
            [
             0.3,
             "#000024"
            ],
            [
             0.4,
             "#000025"
            ],
            [
             0.5,
             "#000026"
            ],
            [
             0.6,
             "#000027"
            ],
            [
             0.7,
             "#000028"
            ],
            [
             0.8,
             "#000029"
            ],
            [
             0.9,
             "#000030"
            ],
            [
             1,
             "#000031"
            ]
           ],
           "sequential": [
            [
             0,
             "#000011"
            ],
            [
             0.1111111111111111,
             "#000012"
            ],
            [
             0.2222222222222222,
             "#000013"
            ],
            [
             0.3333333333333333,
             "#000014"
            ],
            [
             0.4444444444444444,
             "#000015"
            ],
            [
             0.5555555555555556,
             "#000016"
            ],
            [
             0.6666666666666666,
             "#000017"
            ],
            [
             0.7777777777777778,
             "#000018"
            ],
            [
             0.8888888888888888,
             "#000019"
            ],
            [
             1,
             "#000020"
            ]
           ],
           "sequentialminus": [
            [
             0,
             "#000011"
            ],
            [
             0.1111111111111111,
             "#000012"
            ],
            [
             0.2222222222222222,
             "#000013"
            ],
            [
             0.3333333333333333,
             "#000014"
            ],
            [
             0.4444444444444444,
             "#000015"
            ],
            [
             0.5555555555555556,
             "#000016"
            ],
            [
             0.6666666666666666,
             "#000017"
            ],
            [
             0.7777777777777778,
             "#000018"
            ],
            [
             0.8888888888888888,
             "#000019"
            ],
            [
             1,
             "#000020"
            ]
           ]
          },
          "colorway": [
           "#000001",
           "#000002",
           "#000003",
           "#000004",
           "#000005",
           "#000006",
           "#000007",
           "#000008",
           "#000009",
           "#000010"
          ]
         }
        },
        "title": {
         "text": "Tendencia de Ventas Mensuales"
        },
        "xaxis": {
         "anchor": "y",
         "domain": [
          0,
          1
         ],
         "title": {
          "text": "Mes"
         }
        },
        "yaxis": {
         "anchor": "x",
         "domain": [
          0,
          1
         ],
         "title": {
          "text": "Ventas (€)"
         }
        }
       }
      }
     },
     "metadata": {},
     "output_type": "display_data"
    }
   ],
   "source": [
    "# gráfico de lineas\n",
    "fig_mes = px.line(df_mes, x='fecha', y='venta_total',\n",
    "                  title='Tendencia de Ventas Mensuales',\n",
    "                  labels={'venta_total': 'Ventas (€)', 'fecha': 'Mes'})\n",
    "\n",
    "fig_mes.update_traces(line=dict(width=3))\n",
    "#fig_mes.show()"
   ]
  },
  {
   "cell_type": "code",
   "execution_count": 9,
   "id": "a828d22a",
   "metadata": {},
   "outputs": [],
   "source": [
    "# Top productos más vendidos\n",
    "df_productos = df.groupby('producto')['venta_total'].sum().sort_values(ascending=True)\n",
    "fig_products = px.bar(x=df_productos.values, y=df_productos.index,\n",
    "                      orientation='h',title='Ventas por Producto',\n",
    "                      labels={'x': 'Ventas Totales(€)', 'y': 'Producto'})\n",
    "#fig_products.show()"
   ]
  },
  {
   "cell_type": "code",
   "execution_count": 10,
   "id": "61b334a7",
   "metadata": {},
   "outputs": [],
   "source": [
    "# Análisis por región\n",
    "df_region = df.groupby('region')['venta_total'].sum().reset_index()\n",
    "fig_region = px.pie(df_region, values='venta_total', names='region',\n",
    "                    title='Distribución de Ventas por Región',\n",
    "                    labels={'venta_total': 'Ventas Totales(€)', 'region': 'Región'})    \n",
    "\n",
    "#fig_region.show()"
   ]
  },
  {
   "cell_type": "code",
   "execution_count": 11,
   "id": "22b38c9f",
   "metadata": {},
   "outputs": [],
   "source": [
    "# correlacion entre variables\n",
    "df_coor = df[['cantidad', 'precio_unitario', 'venta_total']].corr()\n",
    "\n",
    "fig_heatmap = px.imshow(df_coor, text_auto=True, aspect='auto',\n",
    "                        title='Correlación entre Variables Numéricas')\n",
    "#fig_heatmap.show()"
   ]
  },
  {
   "cell_type": "code",
   "execution_count": 12,
   "id": "dc768654",
   "metadata": {},
   "outputs": [],
   "source": [
    "# Distribución de ventas \n",
    "fig_histograma = px.histogram(df, x='venta_total', nbins=20,\n",
    "                              title='Distribución de Ventas Totales')\n",
    "#fig_histograma.show()\n",
    "\n",
    "#fig_histograma.show(renderer='browser')\n"
   ]
  },
  {
   "cell_type": "markdown",
   "id": "8d3e5335",
   "metadata": {},
   "source": [
    "CONFIGURACIÓN DEl DASHBOARD"
   ]
  },
  {
   "cell_type": "code",
   "execution_count": 13,
   "id": "dcb29419",
   "metadata": {},
   "outputs": [
    {
     "name": "stderr",
     "output_type": "stream",
     "text": [
      "2025-06-02 11:51:20.501 WARNING streamlit.runtime.scriptrunner_utils.script_run_context: Thread 'MainThread': missing ScriptRunContext! This warning can be ignored when running in bare mode.\n"
     ]
    }
   ],
   "source": [
    "# Titulo e icono\n",
    "st.set_page_config(page_title='Dashboard de Ventas',\n",
    "                   page_icon='📊', layout='wide')\n"
   ]
  },
  {
   "cell_type": "code",
   "execution_count": 14,
   "id": "6676adcc",
   "metadata": {},
   "outputs": [
    {
     "name": "stderr",
     "output_type": "stream",
     "text": [
      "2025-06-02 11:51:20.519 WARNING streamlit.runtime.scriptrunner_utils.script_run_context: Thread 'MainThread': missing ScriptRunContext! This warning can be ignored when running in bare mode.\n",
      "2025-06-02 11:51:21.729 \n",
      "  \u001b[33m\u001b[1mWarning:\u001b[0m to view this Streamlit app on a browser, run it with the following\n",
      "  command:\n",
      "\n",
      "    streamlit run c:\\Users\\ander\\Escritorio\\PYTHON\\Python 2025\\dashboard_streamlit_plotly\\dashboard_env\\Lib\\site-packages\\ipykernel_launcher.py [ARGUMENTS]\n",
      "2025-06-02 11:51:21.731 Thread 'MainThread': missing ScriptRunContext! This warning can be ignored when running in bare mode.\n",
      "2025-06-02 11:51:21.734 Thread 'MainThread': missing ScriptRunContext! This warning can be ignored when running in bare mode.\n",
      "2025-06-02 11:51:21.735 Thread 'MainThread': missing ScriptRunContext! This warning can be ignored when running in bare mode.\n"
     ]
    },
    {
     "data": {
      "text/plain": [
       "DeltaGenerator()"
      ]
     },
     "execution_count": 14,
     "metadata": {},
     "output_type": "execute_result"
    }
   ],
   "source": [
    "# Título Principal\n",
    "st.title('📊 Dashboard de Ventas')\n",
    "st.markdown('---')"
   ]
  },
  {
   "cell_type": "code",
   "execution_count": 15,
   "id": "02af3812",
   "metadata": {},
   "outputs": [
    {
     "name": "stderr",
     "output_type": "stream",
     "text": [
      "2025-06-02 11:51:21.752 Thread 'MainThread': missing ScriptRunContext! This warning can be ignored when running in bare mode.\n",
      "2025-06-02 11:51:21.753 Thread 'MainThread': missing ScriptRunContext! This warning can be ignored when running in bare mode.\n",
      "2025-06-02 11:51:21.757 Thread 'MainThread': missing ScriptRunContext! This warning can be ignored when running in bare mode.\n",
      "2025-06-02 11:51:21.758 Thread 'MainThread': missing ScriptRunContext! This warning can be ignored when running in bare mode.\n",
      "2025-06-02 11:51:21.763 Thread 'MainThread': missing ScriptRunContext! This warning can be ignored when running in bare mode.\n",
      "2025-06-02 11:51:21.765 Thread 'MainThread': missing ScriptRunContext! This warning can be ignored when running in bare mode.\n",
      "2025-06-02 11:51:21.767 Thread 'MainThread': missing ScriptRunContext! This warning can be ignored when running in bare mode.\n"
     ]
    }
   ],
   "source": [
    "# Slider para filtros\n",
    "st.sidebar.header('Filtros')\n",
    "productos_seleccionados = st.sidebar.multiselect(\n",
    "    'Selecciona Productos:',\n",
    "    options=df['producto'].unique(),\n",
    "    default=df['producto'].unique()\n",
    ")\n"
   ]
  },
  {
   "cell_type": "code",
   "execution_count": 16,
   "id": "5758f543",
   "metadata": {},
   "outputs": [
    {
     "name": "stderr",
     "output_type": "stream",
     "text": [
      "2025-06-02 12:10:09.783 Thread 'MainThread': missing ScriptRunContext! This warning can be ignored when running in bare mode.\n",
      "2025-06-02 12:10:09.785 Thread 'MainThread': missing ScriptRunContext! This warning can be ignored when running in bare mode.\n",
      "2025-06-02 12:10:09.788 Thread 'MainThread': missing ScriptRunContext! This warning can be ignored when running in bare mode.\n",
      "2025-06-02 12:10:09.789 Thread 'MainThread': missing ScriptRunContext! This warning can be ignored when running in bare mode.\n",
      "2025-06-02 12:10:09.790 Thread 'MainThread': missing ScriptRunContext! This warning can be ignored when running in bare mode.\n"
     ]
    }
   ],
   "source": [
    "# slider para regiones\n",
    "regiones_seleccionadas = st.sidebar.multiselect(\n",
    "    'Selecciona Regiones:',\n",
    "    options=df['region'].unique(),\n",
    "    default=df['region'].unique()\n",
    ")"
   ]
  },
  {
   "cell_type": "code",
   "execution_count": 17,
   "id": "a5020107",
   "metadata": {},
   "outputs": [],
   "source": [
    "# filtrar datos basado en selecciones\n",
    "df_filtrado = df[\n",
    "    (df['producto'].isin(productos_seleccionados)) & \n",
    "    ( df['region'].isin(regiones_seleccionadas))\n",
    "]"
   ]
  },
  {
   "cell_type": "code",
   "execution_count": 19,
   "id": "3f1ac7fc",
   "metadata": {},
   "outputs": [
    {
     "name": "stderr",
     "output_type": "stream",
     "text": [
      "2025-06-02 12:41:21.926 Thread 'MainThread': missing ScriptRunContext! This warning can be ignored when running in bare mode.\n",
      "2025-06-02 12:41:21.927 Thread 'MainThread': missing ScriptRunContext! This warning can be ignored when running in bare mode.\n",
      "2025-06-02 12:41:21.928 Thread 'MainThread': missing ScriptRunContext! This warning can be ignored when running in bare mode.\n",
      "2025-06-02 12:41:21.930 Thread 'MainThread': missing ScriptRunContext! This warning can be ignored when running in bare mode.\n",
      "2025-06-02 12:41:21.931 Thread 'MainThread': missing ScriptRunContext! This warning can be ignored when running in bare mode.\n",
      "2025-06-02 12:41:21.933 Thread 'MainThread': missing ScriptRunContext! This warning can be ignored when running in bare mode.\n",
      "2025-06-02 12:41:21.934 Thread 'MainThread': missing ScriptRunContext! This warning can be ignored when running in bare mode.\n",
      "2025-06-02 12:41:21.937 Thread 'MainThread': missing ScriptRunContext! This warning can be ignored when running in bare mode.\n",
      "2025-06-02 12:41:21.939 Thread 'MainThread': missing ScriptRunContext! This warning can be ignored when running in bare mode.\n",
      "2025-06-02 12:41:21.941 Thread 'MainThread': missing ScriptRunContext! This warning can be ignored when running in bare mode.\n",
      "2025-06-02 12:41:21.943 Thread 'MainThread': missing ScriptRunContext! This warning can be ignored when running in bare mode.\n",
      "2025-06-02 12:41:21.965 Thread 'MainThread': missing ScriptRunContext! This warning can be ignored when running in bare mode.\n",
      "2025-06-02 12:41:21.967 Thread 'MainThread': missing ScriptRunContext! This warning can be ignored when running in bare mode.\n"
     ]
    }
   ],
   "source": [
    "# Métricas Principales\n",
    "col1, col2, col3, col4 = st.columns(4) \n",
    "with col1:\n",
    "    st.metric(label='Total de Ventas',\n",
    "              value=f'{df_filtrado[\"venta_total\"].sum():,.0f} €'\n",
    "             )\n",
    "with col2:\n",
    "    st.metric(label='Promedio de Ventas',\n",
    "              value=f'{df_filtrado[\"venta_total\"].mean():,.0f} €'\n",
    "             )\n",
    "with col3:\n",
    "    st.metric(\"Número de Ventas\",f'{len(df_filtrado)}'\n",
    "             )\n",
    "with col4:\n",
    "    crecimiento = ((df_filtrado[df_filtrado['fecha'] >= '2024-01-01']['venta_total'].sum())/\n",
    "                   (df_filtrado[df_filtrado['fecha'] < '2024-01-01']['venta_total'].sum())-1)*100\n",
    "    st.metric(label='Crecimiento de Ventas 2024',\n",
    "              value=f'{crecimiento:.2f}%'\n",
    "             )"
   ]
  },
  {
   "cell_type": "code",
   "execution_count": null,
   "id": "57bd9470",
   "metadata": {},
   "outputs": [
    {
     "name": "stderr",
     "output_type": "stream",
     "text": [
      "2025-06-02 12:56:46.344 Thread 'MainThread': missing ScriptRunContext! This warning can be ignored when running in bare mode.\n",
      "2025-06-02 12:56:46.346 Thread 'MainThread': missing ScriptRunContext! This warning can be ignored when running in bare mode.\n",
      "2025-06-02 12:56:46.347 Thread 'MainThread': missing ScriptRunContext! This warning can be ignored when running in bare mode.\n",
      "2025-06-02 12:56:46.373 Thread 'MainThread': missing ScriptRunContext! This warning can be ignored when running in bare mode.\n",
      "2025-06-02 12:56:46.376 Thread 'MainThread': missing ScriptRunContext! This warning can be ignored when running in bare mode.\n",
      "2025-06-02 12:56:46.378 Thread 'MainThread': missing ScriptRunContext! This warning can be ignored when running in bare mode.\n",
      "2025-06-02 12:56:46.380 Thread 'MainThread': missing ScriptRunContext! This warning can be ignored when running in bare mode.\n",
      "2025-06-02 12:56:46.386 Thread 'MainThread': missing ScriptRunContext! This warning can be ignored when running in bare mode.\n",
      "2025-06-02 12:56:46.388 Thread 'MainThread': missing ScriptRunContext! This warning can be ignored when running in bare mode.\n",
      "2025-06-02 12:56:46.389 Thread 'MainThread': missing ScriptRunContext! This warning can be ignored when running in bare mode.\n",
      "2025-06-02 12:56:46.390 Thread 'MainThread': missing ScriptRunContext! This warning can be ignored when running in bare mode.\n",
      "2025-06-02 12:56:46.396 Thread 'MainThread': missing ScriptRunContext! This warning can be ignored when running in bare mode.\n",
      "2025-06-02 12:56:46.398 Thread 'MainThread': missing ScriptRunContext! This warning can be ignored when running in bare mode.\n",
      "2025-06-02 12:56:46.401 Thread 'MainThread': missing ScriptRunContext! This warning can be ignored when running in bare mode.\n",
      "2025-06-02 12:56:46.405 Thread 'MainThread': missing ScriptRunContext! This warning can be ignored when running in bare mode.\n",
      "2025-06-02 12:56:46.412 Thread 'MainThread': missing ScriptRunContext! This warning can be ignored when running in bare mode.\n",
      "2025-06-02 12:56:46.414 Thread 'MainThread': missing ScriptRunContext! This warning can be ignored when running in bare mode.\n",
      "2025-06-02 12:56:46.416 Thread 'MainThread': missing ScriptRunContext! This warning can be ignored when running in bare mode.\n",
      "2025-06-02 12:56:46.418 Thread 'MainThread': missing ScriptRunContext! This warning can be ignored when running in bare mode.\n",
      "2025-06-02 12:56:46.427 Thread 'MainThread': missing ScriptRunContext! This warning can be ignored when running in bare mode.\n",
      "2025-06-02 12:56:46.429 Thread 'MainThread': missing ScriptRunContext! This warning can be ignored when running in bare mode.\n",
      "2025-06-02 12:56:46.431 Thread 'MainThread': missing ScriptRunContext! This warning can be ignored when running in bare mode.\n",
      "2025-06-02 12:56:46.432 Thread 'MainThread': missing ScriptRunContext! This warning can be ignored when running in bare mode.\n"
     ]
    },
    {
     "data": {
      "text/plain": [
       "DeltaGenerator()"
      ]
     },
     "execution_count": 20,
     "metadata": {},
     "output_type": "execute_result"
    }
   ],
   "source": [
    "# Layout con dos colummnas\n",
    "col1,col2 = st.columns(2)\n",
    "with col1:\n",
    "    st.plotly_chart(fig_mes, use_container_width=True),\n",
    "    st.plotly_chart(fig_products, use_container_width=True)\n",
    "\n",
    "with col2:\n",
    "    st.plotly_chart(fig_region, use_container_width=True)\n",
    "    st.plotly_chart(fig_heatmap, use_container_width=True)\n",
    "\n",
    "# Gráfico completo en la parte inferior\n",
    "st.plotly_chart(fig_histograma, use_container_width=True)\n"
   ]
  },
  {
   "cell_type": "code",
   "execution_count": null,
   "id": "ad371b4f",
   "metadata": {},
   "outputs": [],
   "source": []
  }
 ],
 "metadata": {
  "kernelspec": {
   "display_name": "dashboard_env",
   "language": "python",
   "name": "python3"
  },
  "language_info": {
   "codemirror_mode": {
    "name": "ipython",
    "version": 3
   },
   "file_extension": ".py",
   "mimetype": "text/x-python",
   "name": "python",
   "nbconvert_exporter": "python",
   "pygments_lexer": "ipython3",
   "version": "3.12.9"
  }
 },
 "nbformat": 4,
 "nbformat_minor": 5
}
